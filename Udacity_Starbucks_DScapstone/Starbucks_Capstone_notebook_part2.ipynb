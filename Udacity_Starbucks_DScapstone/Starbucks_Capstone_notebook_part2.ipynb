{
 "cells": [
  {
   "cell_type": "markdown",
   "metadata": {},
   "source": [
    "# Goals\n"
   ]
  },
  {
   "cell_type": "markdown",
   "metadata": {},
   "source": [
    "# Imports"
   ]
  },
  {
   "cell_type": "code",
   "execution_count": 37,
   "metadata": {
    "ExecuteTime": {
     "end_time": "2019-12-23T17:15:42.536801Z",
     "start_time": "2019-12-23T17:15:42.516280Z"
    }
   },
   "outputs": [
    {
     "data": {
      "text/html": [
       "<style>.container { width:100% !important; }</style>"
      ],
      "text/plain": [
       "<IPython.core.display.HTML object>"
      ]
     },
     "metadata": {},
     "output_type": "display_data"
    }
   ],
   "source": [
    "from IPython.core.display import display, HTML\n",
    "display(HTML(\"<style>.container { width:100% !important; }</style>\"))\n",
    "\n",
    "import warnings\n",
    "warnings.filterwarnings(\"ignore\")\n",
    "\n",
    "import pandas as pd\n",
    "import numpy as np\n",
    "import pickle\n",
    "import matplotlib.pyplot as plt\n",
    "import seaborn as sns\n",
    "%matplotlib inline\n",
    "\n",
    "from sklearn.model_selection import train_test_split, GridSearchCV, RandomizedSearchCV\n",
    "from sklearn.dummy import DummyClassifier\n",
    "from sklearn.ensemble import RandomForestClassifier\n",
    "from xgboost import XGBClassifier\n",
    "from sklearn.svm import SVC\n",
    "from sklearn.linear_model import LogisticRegression\n",
    "\n",
    "from sklearn.preprocessing import QuantileTransformer\n",
    "from sklearn.metrics import (confusion_matrix, classification_report, f1_score,\n",
    "                             accuracy_score, recall_score, roc_auc_score,\n",
    "                             roc_curve, precision_score)\n",
    "\n",
    "pd.options.display.max_columns=100\n",
    "\n",
    "def plot_roc_curve(fpr, tpr, y_true, y_score):\n",
    "    plt.title('Receiver Operating Characteristic: {:.3}'.format(roc_auc_score(y_true, y_score)))\n",
    "    plt.plot(fpr, tpr)\n",
    "    plt.plot([0, 1], ls=\"--\")\n",
    "    plt.plot([0, 0], [1, 0] , c=\".7\")\n",
    "    plt.plot([1, 1] , c=\".7\")\n",
    "    plt.ylabel('True Positive Rate')\n",
    "    plt.xlabel('False Positive Rate')\n",
    "    plt.show()"
   ]
  },
  {
   "cell_type": "markdown",
   "metadata": {},
   "source": [
    "# Data load"
   ]
  },
  {
   "cell_type": "code",
   "execution_count": 2,
   "metadata": {
    "ExecuteTime": {
     "end_time": "2019-12-23T15:33:45.477812Z",
     "start_time": "2019-12-23T15:33:45.181051Z"
    }
   },
   "outputs": [
    {
     "name": "stdout",
     "output_type": "stream",
     "text": [
      "(61042, 26)\n",
      "0    36834\n",
      "1    24208\n",
      "Name: offer_successful, dtype: int64\n"
     ]
    },
    {
     "data": {
      "text/html": [
       "<div>\n",
       "<style scoped>\n",
       "    .dataframe tbody tr th:only-of-type {\n",
       "        vertical-align: middle;\n",
       "    }\n",
       "\n",
       "    .dataframe tbody tr th {\n",
       "        vertical-align: top;\n",
       "    }\n",
       "\n",
       "    .dataframe thead th {\n",
       "        text-align: right;\n",
       "    }\n",
       "</style>\n",
       "<table border=\"1\" class=\"dataframe\">\n",
       "  <thead>\n",
       "    <tr style=\"text-align: right;\">\n",
       "      <th></th>\n",
       "      <th>person</th>\n",
       "      <th>offer_id</th>\n",
       "      <th>received_id</th>\n",
       "      <th>offer_successful</th>\n",
       "      <th>sum_event_offer_received</th>\n",
       "      <th>sum_event_offer_viewed</th>\n",
       "      <th>sum_event_transaction</th>\n",
       "      <th>sum_event_offer_completed</th>\n",
       "      <th>sum_amount</th>\n",
       "      <th>mean_difficulty</th>\n",
       "      <th>mean_amount</th>\n",
       "      <th>count_received_id</th>\n",
       "      <th>channel_email</th>\n",
       "      <th>channel_mobile</th>\n",
       "      <th>channel_social</th>\n",
       "      <th>channel_web</th>\n",
       "      <th>age</th>\n",
       "      <th>income</th>\n",
       "      <th>gender_F</th>\n",
       "      <th>gender_M</th>\n",
       "      <th>gender_O</th>\n",
       "      <th>gender_Unknown</th>\n",
       "      <th>year</th>\n",
       "      <th>month</th>\n",
       "      <th>day</th>\n",
       "      <th>week</th>\n",
       "    </tr>\n",
       "  </thead>\n",
       "  <tbody>\n",
       "    <tr>\n",
       "      <th>0</th>\n",
       "      <td>0009655768c64bdeb2e877511632db8f</td>\n",
       "      <td>2906b810c7d4411798c6938adc9daaa5</td>\n",
       "      <td>0.0</td>\n",
       "      <td>0</td>\n",
       "      <td>3</td>\n",
       "      <td>2</td>\n",
       "      <td>7</td>\n",
       "      <td>3</td>\n",
       "      <td>105.44</td>\n",
       "      <td>8.125</td>\n",
       "      <td>7.029333</td>\n",
       "      <td>3.0</td>\n",
       "      <td>1.0</td>\n",
       "      <td>1.0</td>\n",
       "      <td>0.0</td>\n",
       "      <td>1.0</td>\n",
       "      <td>33</td>\n",
       "      <td>72000.0</td>\n",
       "      <td>0</td>\n",
       "      <td>1</td>\n",
       "      <td>0</td>\n",
       "      <td>0</td>\n",
       "      <td>2017</td>\n",
       "      <td>4</td>\n",
       "      <td>21</td>\n",
       "      <td>16</td>\n",
       "    </tr>\n",
       "    <tr>\n",
       "      <th>1</th>\n",
       "      <td>0009655768c64bdeb2e877511632db8f</td>\n",
       "      <td>f19421c1d4aa40978ebb69ca19b0e20d</td>\n",
       "      <td>3.0</td>\n",
       "      <td>0</td>\n",
       "      <td>3</td>\n",
       "      <td>2</td>\n",
       "      <td>7</td>\n",
       "      <td>3</td>\n",
       "      <td>105.44</td>\n",
       "      <td>8.125</td>\n",
       "      <td>7.029333</td>\n",
       "      <td>3.0</td>\n",
       "      <td>1.0</td>\n",
       "      <td>1.0</td>\n",
       "      <td>1.0</td>\n",
       "      <td>1.0</td>\n",
       "      <td>33</td>\n",
       "      <td>72000.0</td>\n",
       "      <td>0</td>\n",
       "      <td>1</td>\n",
       "      <td>0</td>\n",
       "      <td>0</td>\n",
       "      <td>2017</td>\n",
       "      <td>4</td>\n",
       "      <td>21</td>\n",
       "      <td>16</td>\n",
       "    </tr>\n",
       "    <tr>\n",
       "      <th>2</th>\n",
       "      <td>0009655768c64bdeb2e877511632db8f</td>\n",
       "      <td>fafdcd668e3743c1bb461111dcafc2a4</td>\n",
       "      <td>4.0</td>\n",
       "      <td>1</td>\n",
       "      <td>3</td>\n",
       "      <td>2</td>\n",
       "      <td>7</td>\n",
       "      <td>3</td>\n",
       "      <td>105.44</td>\n",
       "      <td>8.125</td>\n",
       "      <td>7.029333</td>\n",
       "      <td>3.0</td>\n",
       "      <td>1.0</td>\n",
       "      <td>1.0</td>\n",
       "      <td>1.0</td>\n",
       "      <td>1.0</td>\n",
       "      <td>33</td>\n",
       "      <td>72000.0</td>\n",
       "      <td>0</td>\n",
       "      <td>1</td>\n",
       "      <td>0</td>\n",
       "      <td>0</td>\n",
       "      <td>2017</td>\n",
       "      <td>4</td>\n",
       "      <td>21</td>\n",
       "      <td>16</td>\n",
       "    </tr>\n",
       "    <tr>\n",
       "      <th>3</th>\n",
       "      <td>00116118485d4dfda04fdbaba9a87b5c</td>\n",
       "      <td>f19421c1d4aa40978ebb69ca19b0e20d</td>\n",
       "      <td>5.0</td>\n",
       "      <td>0</td>\n",
       "      <td>2</td>\n",
       "      <td>2</td>\n",
       "      <td>3</td>\n",
       "      <td>0</td>\n",
       "      <td>4.09</td>\n",
       "      <td>5.000</td>\n",
       "      <td>0.584286</td>\n",
       "      <td>2.0</td>\n",
       "      <td>1.0</td>\n",
       "      <td>1.0</td>\n",
       "      <td>1.0</td>\n",
       "      <td>1.0</td>\n",
       "      <td>118</td>\n",
       "      <td>0.0</td>\n",
       "      <td>0</td>\n",
       "      <td>0</td>\n",
       "      <td>0</td>\n",
       "      <td>1</td>\n",
       "      <td>2018</td>\n",
       "      <td>4</td>\n",
       "      <td>25</td>\n",
       "      <td>17</td>\n",
       "    </tr>\n",
       "    <tr>\n",
       "      <th>4</th>\n",
       "      <td>00116118485d4dfda04fdbaba9a87b5c</td>\n",
       "      <td>f19421c1d4aa40978ebb69ca19b0e20d</td>\n",
       "      <td>6.0</td>\n",
       "      <td>0</td>\n",
       "      <td>2</td>\n",
       "      <td>2</td>\n",
       "      <td>3</td>\n",
       "      <td>0</td>\n",
       "      <td>4.09</td>\n",
       "      <td>5.000</td>\n",
       "      <td>0.584286</td>\n",
       "      <td>2.0</td>\n",
       "      <td>1.0</td>\n",
       "      <td>1.0</td>\n",
       "      <td>1.0</td>\n",
       "      <td>1.0</td>\n",
       "      <td>118</td>\n",
       "      <td>0.0</td>\n",
       "      <td>0</td>\n",
       "      <td>0</td>\n",
       "      <td>0</td>\n",
       "      <td>1</td>\n",
       "      <td>2018</td>\n",
       "      <td>4</td>\n",
       "      <td>25</td>\n",
       "      <td>17</td>\n",
       "    </tr>\n",
       "  </tbody>\n",
       "</table>\n",
       "</div>"
      ],
      "text/plain": [
       "                             person                          offer_id  \\\n",
       "0  0009655768c64bdeb2e877511632db8f  2906b810c7d4411798c6938adc9daaa5   \n",
       "1  0009655768c64bdeb2e877511632db8f  f19421c1d4aa40978ebb69ca19b0e20d   \n",
       "2  0009655768c64bdeb2e877511632db8f  fafdcd668e3743c1bb461111dcafc2a4   \n",
       "3  00116118485d4dfda04fdbaba9a87b5c  f19421c1d4aa40978ebb69ca19b0e20d   \n",
       "4  00116118485d4dfda04fdbaba9a87b5c  f19421c1d4aa40978ebb69ca19b0e20d   \n",
       "\n",
       "   received_id  offer_successful  sum_event_offer_received  \\\n",
       "0          0.0                 0                         3   \n",
       "1          3.0                 0                         3   \n",
       "2          4.0                 1                         3   \n",
       "3          5.0                 0                         2   \n",
       "4          6.0                 0                         2   \n",
       "\n",
       "   sum_event_offer_viewed  sum_event_transaction  sum_event_offer_completed  \\\n",
       "0                       2                      7                          3   \n",
       "1                       2                      7                          3   \n",
       "2                       2                      7                          3   \n",
       "3                       2                      3                          0   \n",
       "4                       2                      3                          0   \n",
       "\n",
       "   sum_amount  mean_difficulty  mean_amount  count_received_id  channel_email  \\\n",
       "0      105.44            8.125     7.029333                3.0            1.0   \n",
       "1      105.44            8.125     7.029333                3.0            1.0   \n",
       "2      105.44            8.125     7.029333                3.0            1.0   \n",
       "3        4.09            5.000     0.584286                2.0            1.0   \n",
       "4        4.09            5.000     0.584286                2.0            1.0   \n",
       "\n",
       "   channel_mobile  channel_social  channel_web  age   income  gender_F  \\\n",
       "0             1.0             0.0          1.0   33  72000.0         0   \n",
       "1             1.0             1.0          1.0   33  72000.0         0   \n",
       "2             1.0             1.0          1.0   33  72000.0         0   \n",
       "3             1.0             1.0          1.0  118      0.0         0   \n",
       "4             1.0             1.0          1.0  118      0.0         0   \n",
       "\n",
       "   gender_M  gender_O  gender_Unknown  year  month  day  week  \n",
       "0         1         0               0  2017      4   21    16  \n",
       "1         1         0               0  2017      4   21    16  \n",
       "2         1         0               0  2017      4   21    16  \n",
       "3         0         0               1  2018      4   25    17  \n",
       "4         0         0               1  2018      4   25    17  "
      ]
     },
     "execution_count": 2,
     "metadata": {},
     "output_type": "execute_result"
    }
   ],
   "source": [
    "bogodis = pd.read_csv('bogodis.csv')\n",
    "print(bogodis.shape)\n",
    "print(bogodis.offer_successful.value_counts())\n",
    "bogodis.head()"
   ]
  },
  {
   "cell_type": "code",
   "execution_count": 3,
   "metadata": {
    "ExecuteTime": {
     "end_time": "2019-12-23T15:33:45.603298Z",
     "start_time": "2019-12-23T15:33:45.487376Z"
    }
   },
   "outputs": [
    {
     "name": "stdout",
     "output_type": "stream",
     "text": [
      "(15235, 26)\n",
      "0.0    9473\n",
      "1.0    5762\n",
      "Name: offer_successful, dtype: int64\n"
     ]
    },
    {
     "data": {
      "text/html": [
       "<div>\n",
       "<style scoped>\n",
       "    .dataframe tbody tr th:only-of-type {\n",
       "        vertical-align: middle;\n",
       "    }\n",
       "\n",
       "    .dataframe tbody tr th {\n",
       "        vertical-align: top;\n",
       "    }\n",
       "\n",
       "    .dataframe thead th {\n",
       "        text-align: right;\n",
       "    }\n",
       "</style>\n",
       "<table border=\"1\" class=\"dataframe\">\n",
       "  <thead>\n",
       "    <tr style=\"text-align: right;\">\n",
       "      <th></th>\n",
       "      <th>person</th>\n",
       "      <th>offer_id</th>\n",
       "      <th>received_id</th>\n",
       "      <th>offer_successful</th>\n",
       "      <th>sum_event_offer_received</th>\n",
       "      <th>sum_event_offer_viewed</th>\n",
       "      <th>sum_event_transaction</th>\n",
       "      <th>sum_event_offer_completed</th>\n",
       "      <th>sum_amount</th>\n",
       "      <th>mean_difficulty</th>\n",
       "      <th>mean_amount</th>\n",
       "      <th>count_received_id</th>\n",
       "      <th>channel_email</th>\n",
       "      <th>channel_mobile</th>\n",
       "      <th>channel_social</th>\n",
       "      <th>channel_web</th>\n",
       "      <th>age</th>\n",
       "      <th>income</th>\n",
       "      <th>gender_F</th>\n",
       "      <th>gender_M</th>\n",
       "      <th>gender_O</th>\n",
       "      <th>gender_Unknown</th>\n",
       "      <th>year</th>\n",
       "      <th>month</th>\n",
       "      <th>day</th>\n",
       "      <th>week</th>\n",
       "    </tr>\n",
       "  </thead>\n",
       "  <tbody>\n",
       "    <tr>\n",
       "      <th>0</th>\n",
       "      <td>0009655768c64bdeb2e877511632db8f</td>\n",
       "      <td>3f207df678b143eea3cee63160fa8bed</td>\n",
       "      <td>1.0</td>\n",
       "      <td>0.0</td>\n",
       "      <td>2</td>\n",
       "      <td>2</td>\n",
       "      <td>1</td>\n",
       "      <td>0</td>\n",
       "      <td>22.16</td>\n",
       "      <td>0.0</td>\n",
       "      <td>4.432</td>\n",
       "      <td>2.0</td>\n",
       "      <td>1.0</td>\n",
       "      <td>1.0</td>\n",
       "      <td>0.0</td>\n",
       "      <td>1.0</td>\n",
       "      <td>33</td>\n",
       "      <td>72000.0</td>\n",
       "      <td>0</td>\n",
       "      <td>1</td>\n",
       "      <td>0</td>\n",
       "      <td>0</td>\n",
       "      <td>2017</td>\n",
       "      <td>4</td>\n",
       "      <td>21</td>\n",
       "      <td>16</td>\n",
       "    </tr>\n",
       "    <tr>\n",
       "      <th>1</th>\n",
       "      <td>0009655768c64bdeb2e877511632db8f</td>\n",
       "      <td>5a8bc65990b245e5a138643cd4eb9837</td>\n",
       "      <td>2.0</td>\n",
       "      <td>1.0</td>\n",
       "      <td>2</td>\n",
       "      <td>2</td>\n",
       "      <td>1</td>\n",
       "      <td>0</td>\n",
       "      <td>22.16</td>\n",
       "      <td>0.0</td>\n",
       "      <td>4.432</td>\n",
       "      <td>2.0</td>\n",
       "      <td>1.0</td>\n",
       "      <td>1.0</td>\n",
       "      <td>1.0</td>\n",
       "      <td>0.0</td>\n",
       "      <td>33</td>\n",
       "      <td>72000.0</td>\n",
       "      <td>0</td>\n",
       "      <td>1</td>\n",
       "      <td>0</td>\n",
       "      <td>0</td>\n",
       "      <td>2017</td>\n",
       "      <td>4</td>\n",
       "      <td>21</td>\n",
       "      <td>16</td>\n",
       "    </tr>\n",
       "    <tr>\n",
       "      <th>2</th>\n",
       "      <td>0011e0d4e6b944f998e987f904e8c1e5</td>\n",
       "      <td>3f207df678b143eea3cee63160fa8bed</td>\n",
       "      <td>9.0</td>\n",
       "      <td>0.0</td>\n",
       "      <td>2</td>\n",
       "      <td>2</td>\n",
       "      <td>1</td>\n",
       "      <td>0</td>\n",
       "      <td>13.49</td>\n",
       "      <td>0.0</td>\n",
       "      <td>2.698</td>\n",
       "      <td>2.0</td>\n",
       "      <td>1.0</td>\n",
       "      <td>1.0</td>\n",
       "      <td>0.0</td>\n",
       "      <td>1.0</td>\n",
       "      <td>40</td>\n",
       "      <td>57000.0</td>\n",
       "      <td>0</td>\n",
       "      <td>0</td>\n",
       "      <td>1</td>\n",
       "      <td>0</td>\n",
       "      <td>2018</td>\n",
       "      <td>1</td>\n",
       "      <td>9</td>\n",
       "      <td>2</td>\n",
       "    </tr>\n",
       "    <tr>\n",
       "      <th>3</th>\n",
       "      <td>0011e0d4e6b944f998e987f904e8c1e5</td>\n",
       "      <td>5a8bc65990b245e5a138643cd4eb9837</td>\n",
       "      <td>10.0</td>\n",
       "      <td>0.0</td>\n",
       "      <td>2</td>\n",
       "      <td>2</td>\n",
       "      <td>1</td>\n",
       "      <td>0</td>\n",
       "      <td>13.49</td>\n",
       "      <td>0.0</td>\n",
       "      <td>2.698</td>\n",
       "      <td>2.0</td>\n",
       "      <td>1.0</td>\n",
       "      <td>1.0</td>\n",
       "      <td>1.0</td>\n",
       "      <td>0.0</td>\n",
       "      <td>40</td>\n",
       "      <td>57000.0</td>\n",
       "      <td>0</td>\n",
       "      <td>0</td>\n",
       "      <td>1</td>\n",
       "      <td>0</td>\n",
       "      <td>2018</td>\n",
       "      <td>1</td>\n",
       "      <td>9</td>\n",
       "      <td>2</td>\n",
       "    </tr>\n",
       "    <tr>\n",
       "      <th>4</th>\n",
       "      <td>0020c2b971eb4e9188eac86d93036a77</td>\n",
       "      <td>5a8bc65990b245e5a138643cd4eb9837</td>\n",
       "      <td>13.0</td>\n",
       "      <td>0.0</td>\n",
       "      <td>1</td>\n",
       "      <td>1</td>\n",
       "      <td>3</td>\n",
       "      <td>0</td>\n",
       "      <td>64.67</td>\n",
       "      <td>0.0</td>\n",
       "      <td>12.934</td>\n",
       "      <td>1.0</td>\n",
       "      <td>1.0</td>\n",
       "      <td>1.0</td>\n",
       "      <td>1.0</td>\n",
       "      <td>0.0</td>\n",
       "      <td>59</td>\n",
       "      <td>90000.0</td>\n",
       "      <td>1</td>\n",
       "      <td>0</td>\n",
       "      <td>0</td>\n",
       "      <td>0</td>\n",
       "      <td>2016</td>\n",
       "      <td>3</td>\n",
       "      <td>4</td>\n",
       "      <td>9</td>\n",
       "    </tr>\n",
       "  </tbody>\n",
       "</table>\n",
       "</div>"
      ],
      "text/plain": [
       "                             person                          offer_id  \\\n",
       "0  0009655768c64bdeb2e877511632db8f  3f207df678b143eea3cee63160fa8bed   \n",
       "1  0009655768c64bdeb2e877511632db8f  5a8bc65990b245e5a138643cd4eb9837   \n",
       "2  0011e0d4e6b944f998e987f904e8c1e5  3f207df678b143eea3cee63160fa8bed   \n",
       "3  0011e0d4e6b944f998e987f904e8c1e5  5a8bc65990b245e5a138643cd4eb9837   \n",
       "4  0020c2b971eb4e9188eac86d93036a77  5a8bc65990b245e5a138643cd4eb9837   \n",
       "\n",
       "   received_id  offer_successful  sum_event_offer_received  \\\n",
       "0          1.0               0.0                         2   \n",
       "1          2.0               1.0                         2   \n",
       "2          9.0               0.0                         2   \n",
       "3         10.0               0.0                         2   \n",
       "4         13.0               0.0                         1   \n",
       "\n",
       "   sum_event_offer_viewed  sum_event_transaction  sum_event_offer_completed  \\\n",
       "0                       2                      1                          0   \n",
       "1                       2                      1                          0   \n",
       "2                       2                      1                          0   \n",
       "3                       2                      1                          0   \n",
       "4                       1                      3                          0   \n",
       "\n",
       "   sum_amount  mean_difficulty  mean_amount  count_received_id  channel_email  \\\n",
       "0       22.16              0.0        4.432                2.0            1.0   \n",
       "1       22.16              0.0        4.432                2.0            1.0   \n",
       "2       13.49              0.0        2.698                2.0            1.0   \n",
       "3       13.49              0.0        2.698                2.0            1.0   \n",
       "4       64.67              0.0       12.934                1.0            1.0   \n",
       "\n",
       "   channel_mobile  channel_social  channel_web  age   income  gender_F  \\\n",
       "0             1.0             0.0          1.0   33  72000.0         0   \n",
       "1             1.0             1.0          0.0   33  72000.0         0   \n",
       "2             1.0             0.0          1.0   40  57000.0         0   \n",
       "3             1.0             1.0          0.0   40  57000.0         0   \n",
       "4             1.0             1.0          0.0   59  90000.0         1   \n",
       "\n",
       "   gender_M  gender_O  gender_Unknown  year  month  day  week  \n",
       "0         1         0               0  2017      4   21    16  \n",
       "1         1         0               0  2017      4   21    16  \n",
       "2         0         1               0  2018      1    9     2  \n",
       "3         0         1               0  2018      1    9     2  \n",
       "4         0         0               0  2016      3    4     9  "
      ]
     },
     "execution_count": 3,
     "metadata": {},
     "output_type": "execute_result"
    }
   ],
   "source": [
    "informational = pd.read_csv('informational.csv')\n",
    "print(informational.shape)\n",
    "print(informational.offer_successful.value_counts())\n",
    "informational.head()"
   ]
  },
  {
   "cell_type": "markdown",
   "metadata": {},
   "source": [
    "# 1ST MODELING TASK: BOGO and discount offers"
   ]
  },
  {
   "cell_type": "markdown",
   "metadata": {},
   "source": [
    "## partition"
   ]
  },
  {
   "cell_type": "code",
   "execution_count": 5,
   "metadata": {
    "ExecuteTime": {
     "end_time": "2019-12-23T15:34:07.494600Z",
     "start_time": "2019-12-23T15:34:07.423082Z"
    }
   },
   "outputs": [
    {
     "data": {
      "text/plain": [
       "((42729, 22), (18313, 22))"
      ]
     },
     "execution_count": 5,
     "metadata": {},
     "output_type": "execute_result"
    }
   ],
   "source": [
    "X = bogodis.drop(['person', 'offer_id', 'received_id', 'offer_successful'], axis=1)\n",
    "y = bogodis['offer_successful']\n",
    "\n",
    "X_train, X_test, y_train, y_test = train_test_split(X, y, stratify=y, test_size=0.3, random_state=42)\n",
    "X_train.shape, X_test.shape"
   ]
  },
  {
   "cell_type": "markdown",
   "metadata": {},
   "source": [
    "## Test out-of-the-box models"
   ]
  },
  {
   "cell_type": "code",
   "execution_count": 6,
   "metadata": {
    "ExecuteTime": {
     "end_time": "2019-12-23T15:34:09.502909Z",
     "start_time": "2019-12-23T15:34:09.494601Z"
    }
   },
   "outputs": [
    {
     "name": "stdout",
     "output_type": "stream",
     "text": [
      "SVC\n",
      "LogisticRegression\n",
      "DummyClassifier\n",
      "RandomForestClassifier\n",
      "XGBClassifier\n"
     ]
    }
   ],
   "source": [
    "seed = 42\n",
    "\n",
    "clfs = [SVC(random_state=seed),\n",
    "        LogisticRegression(random_state=seed),\n",
    "        DummyClassifier(strategy='most_frequent', random_state=seed),\n",
    "        RandomForestClassifier(random_state=seed),\n",
    "        XGBClassifier(random_state=seed)]\n",
    "\n",
    "f1_dict = dict()\n",
    "accuracy_dict = dict()\n",
    "\n",
    "for clf in clfs:\n",
    "    name = clf.__class__.__name__\n",
    "    print(name)"
   ]
  },
  {
   "cell_type": "code",
   "execution_count": 8,
   "metadata": {
    "ExecuteTime": {
     "end_time": "2019-12-23T15:37:05.203670Z",
     "start_time": "2019-12-23T15:35:43.976628Z"
    }
   },
   "outputs": [
    {
     "name": "stderr",
     "output_type": "stream",
     "text": [
      "/Users/gabrielestivalet/anaconda/envs/snakes/lib/python3.6/site-packages/sklearn/metrics/classification.py:1135: UndefinedMetricWarning: F-score is ill-defined and being set to 0.0 due to no predicted samples.\n",
      "  'precision', 'predicted', average, warn_for)\n",
      "/Users/gabrielestivalet/anaconda/envs/snakes/lib/python3.6/site-packages/sklearn/preprocessing/label.py:151: DeprecationWarning: The truth value of an empty array is ambiguous. Returning False, but in future this will result in an error. Use `array.size > 0` to check that an array is not empty.\n",
      "  if diff:\n"
     ]
    }
   ],
   "source": [
    "seed = 42\n",
    "\n",
    "clfs = [SVC(random_state=seed),\n",
    "        LogisticRegression(random_state=seed),\n",
    "        DummyClassifier(strategy='most_frequent', random_state=seed),\n",
    "        RandomForestClassifier(random_state=seed),\n",
    "        XGBClassifier(random_state=seed)]\n",
    "\n",
    "f1_dict = dict()\n",
    "accuracy_dict = dict()\n",
    "\n",
    "for clf in clfs:\n",
    "    name = clf.__class__.__name__\n",
    "    \n",
    "    if name in ['SVC', 'LogisticRegression']:\n",
    "        scaler = QuantileTransformer()\n",
    "        scaler.fit(X_train)\n",
    "        X_train_scaled = scaler.transform(X_train)\n",
    "        X_test_scaled  = scaler.transform(X_test)\n",
    "        clf.fit(X_train_scaled, y_train)\n",
    "        y_pred = clf.predict(X_test_scaled)\n",
    "    else:\n",
    "        clf.fit(X_train, y_train)\n",
    "        y_pred = clf.predict(X_test)\n",
    "    \n",
    "    # record results\n",
    "    f1_dict[name] = f1_score(y_test, y_pred)\n",
    "    accuracy_dict[name] = accuracy_score(y_test, y_pred)"
   ]
  },
  {
   "cell_type": "code",
   "execution_count": 9,
   "metadata": {
    "ExecuteTime": {
     "end_time": "2019-12-23T15:37:12.893115Z",
     "start_time": "2019-12-23T15:37:12.885074Z"
    }
   },
   "outputs": [
    {
     "data": {
      "text/plain": [
       "{'SVC': 0.7750940814231955,\n",
       " 'LogisticRegression': 0.7592707258341933,\n",
       " 'DummyClassifier': 0.0,\n",
       " 'RandomForestClassifier': 0.6873859969131472,\n",
       " 'XGBClassifier': 0.7815966041352869}"
      ]
     },
     "execution_count": 9,
     "metadata": {},
     "output_type": "execute_result"
    }
   ],
   "source": [
    "f1_dict"
   ]
  },
  {
   "cell_type": "code",
   "execution_count": 10,
   "metadata": {
    "ExecuteTime": {
     "end_time": "2019-12-23T15:37:23.198097Z",
     "start_time": "2019-12-23T15:37:23.189112Z"
    }
   },
   "outputs": [
    {
     "data": {
      "text/plain": [
       "{'SVC': 0.8205100202042265,\n",
       " 'LogisticRegression': 0.8089335444766014,\n",
       " 'DummyClassifier': 0.6033964942936711,\n",
       " 'RandomForestClassifier': 0.7566755856495386,\n",
       " 'XGBClassifier': 0.8258068039097909}"
      ]
     },
     "execution_count": 10,
     "metadata": {},
     "output_type": "execute_result"
    }
   ],
   "source": [
    "accuracy_dict"
   ]
  },
  {
   "cell_type": "markdown",
   "metadata": {},
   "source": [
    "## Optimize best model"
   ]
  },
  {
   "cell_type": "code",
   "execution_count": 14,
   "metadata": {
    "ExecuteTime": {
     "end_time": "2019-12-23T15:56:28.593726Z",
     "start_time": "2019-12-23T15:43:58.217373Z"
    }
   },
   "outputs": [
    {
     "name": "stdout",
     "output_type": "stream",
     "text": [
      "Fitting 5 folds for each of 50 candidates, totalling 250 fits\n"
     ]
    },
    {
     "name": "stderr",
     "output_type": "stream",
     "text": [
      "[Parallel(n_jobs=-1)]: Done  42 tasks      | elapsed:  2.0min\n",
      "[Parallel(n_jobs=-1)]: Done 192 tasks      | elapsed:  9.1min\n",
      "[Parallel(n_jobs=-1)]: Done 250 out of 250 | elapsed: 12.1min finished\n"
     ]
    },
    {
     "data": {
      "text/plain": [
       "RandomizedSearchCV(cv=5, error_score='raise',\n",
       "          estimator=XGBClassifier(base_score=0.5, booster='gbtree', colsample_bylevel=1,\n",
       "       colsample_bytree=1, gamma=0, learning_rate=0.1, max_delta_step=0,\n",
       "       max_depth=3, min_child_weight=1, missing=None, n_estimators=100,\n",
       "       n_jobs=1, nthread=None, objective='binary:logistic', random_state=0,\n",
       "       reg_alpha=0, reg_lambda=1, scale_pos_weight=1, seed=None,\n",
       "       silent=True, subsample=1),\n",
       "          fit_params=None, iid=True, n_iter=50, n_jobs=-1,\n",
       "          param_distributions={'max_depth': [3, 5, 7, 10], 'learning_rate': [0.001, 0.01, 0.1, 1, 10], 'n_estimators': [50, 100, 300, 500], 'gamma': [0.01, 1, 10], 'reg_alpha': [0.01, 1, 10], 'colsample_bytree': [0.3, 0.5]},\n",
       "          pre_dispatch='2*n_jobs', random_state=42, refit=True,\n",
       "          return_train_score='warn', scoring=None, verbose=1)"
      ]
     },
     "execution_count": 14,
     "metadata": {},
     "output_type": "execute_result"
    }
   ],
   "source": [
    "xgb = XGBClassifier(objective='binary:logistic',\n",
    "                    booster='gbtree')\n",
    "\n",
    "parameters = {'max_depth':[3,5,7,10],\n",
    "             'learning_rate':[0.001,0.01,0.1,1,10],\n",
    "             'n_estimators':[50,100,300,500],\n",
    "             'gamma':[0.01,1,10],\n",
    "             'reg_alpha':[0.01,1,10],\n",
    "             'colsample_bytree':[0.3, 0.5]}\n",
    "\n",
    "search = RandomizedSearchCV(xgb, param_distributions=parameters,\n",
    "                            n_iter=50,\n",
    "                            n_jobs=-1,\n",
    "                            cv=5,\n",
    "                            random_state=seed,\n",
    "                            verbose=1)\n",
    "\n",
    "search.fit(X_train, y_train)"
   ]
  },
  {
   "cell_type": "code",
   "execution_count": 25,
   "metadata": {
    "ExecuteTime": {
     "end_time": "2019-12-23T16:07:08.364064Z",
     "start_time": "2019-12-23T16:07:08.175676Z"
    }
   },
   "outputs": [
    {
     "name": "stdout",
     "output_type": "stream",
     "text": [
      "             precision    recall  f1-score   support\n",
      "\n",
      "          0       0.86      0.86      0.86     11050\n",
      "          1       0.78      0.79      0.79      7263\n",
      "\n",
      "avg / total       0.83      0.83      0.83     18313\n",
      "\n"
     ]
    }
   ],
   "source": [
    "y_pred = search.predict(X_test)\n",
    "print(classification_report(y_test, y_pred))"
   ]
  },
  {
   "cell_type": "code",
   "execution_count": 26,
   "metadata": {
    "ExecuteTime": {
     "end_time": "2019-12-23T16:07:16.799621Z",
     "start_time": "2019-12-23T16:07:16.766662Z"
    }
   },
   "outputs": [
    {
     "data": {
      "text/plain": [
       "array([[9486, 1564],\n",
       "       [1556, 5707]])"
      ]
     },
     "execution_count": 26,
     "metadata": {},
     "output_type": "execute_result"
    }
   ],
   "source": [
    "confusion_matrix(y_test, y_pred)"
   ]
  },
  {
   "cell_type": "code",
   "execution_count": 33,
   "metadata": {
    "ExecuteTime": {
     "end_time": "2019-12-23T16:16:31.264617Z",
     "start_time": "2019-12-23T16:16:30.875484Z"
    }
   },
   "outputs": [
    {
     "data": {
      "image/png": "[encoded data removed]",
      "text/plain": [
       "<Figure size 432x288 with 1 Axes>"
      ]
     },
     "metadata": {
      "needs_background": "light"
     },
     "output_type": "display_data"
    }
   ],
   "source": [
    "y_pred_proba = search.best_estimator_.predict_proba(X_test)[:,1]\n",
    "\n",
    "# Create true and false positive rates\n",
    "fpr, tpr, threshold = roc_curve(y_test, y_pred_proba)\n",
    "plot_roc_curve(fpr, tpr, y_test, y_pred_proba)"
   ]
  },
  {
   "cell_type": "code",
   "execution_count": 44,
   "metadata": {
    "ExecuteTime": {
     "end_time": "2019-12-23T17:17:54.137395Z",
     "start_time": "2019-12-23T17:17:54.112324Z"
    }
   },
   "outputs": [
    {
     "data": {
      "text/plain": [
       "XGBClassifier(base_score=0.5, booster='gbtree', colsample_bylevel=1,\n",
       "       colsample_bytree=0.5, gamma=10, learning_rate=0.1, max_delta_step=0,\n",
       "       max_depth=7, min_child_weight=1, missing=nan, n_estimators=500,\n",
       "       n_jobs=1, nthread=None, objective='binary:logistic', random_state=0,\n",
       "       reg_alpha=0.01, reg_lambda=1, scale_pos_weight=1, seed=None,\n",
       "       silent=True, subsample=1)"
      ]
     },
     "execution_count": 44,
     "metadata": {},
     "output_type": "execute_result"
    }
   ],
   "source": [
    "# Saving the model\n",
    "filename = 'bogo_discount_model.sav'\n",
    "pickle.dump(search.best_estimator_, open(filename, 'wb'))\n",
    "\n",
    "# Loading the model\n",
    "search = pickle.load(open(filename,'rb'))\n",
    "search"
   ]
  },
  {
   "cell_type": "code",
   "execution_count": null,
   "metadata": {},
   "outputs": [],
   "source": []
  },
  {
   "cell_type": "code",
   "execution_count": 35,
   "metadata": {
    "ExecuteTime": {
     "end_time": "2019-12-23T16:17:21.563279Z",
     "start_time": "2019-12-23T16:17:21.559684Z"
    }
   },
   "outputs": [],
   "source": [
    "#from tpot import TPOTClassifier\n",
    "\n",
    "#tpot = TPOTClassifier(generations=5, verbosity=2, n_jobs=-1)\n",
    "#tpot.fit(X_train, y_train)"
   ]
  },
  {
   "cell_type": "code",
   "execution_count": 36,
   "metadata": {
    "ExecuteTime": {
     "end_time": "2019-12-23T16:17:23.289663Z",
     "start_time": "2019-12-23T16:17:23.285143Z"
    }
   },
   "outputs": [],
   "source": [
    "#tpot.score(X_test, y_test)"
   ]
  },
  {
   "cell_type": "code",
   "execution_count": null,
   "metadata": {},
   "outputs": [],
   "source": []
  },
  {
   "cell_type": "markdown",
   "metadata": {},
   "source": [
    "# 2ND MODELING TASK: informational offers"
   ]
  },
  {
   "cell_type": "markdown",
   "metadata": {},
   "source": [
    "## partition"
   ]
  },
  {
   "cell_type": "code",
   "execution_count": 16,
   "metadata": {
    "ExecuteTime": {
     "end_time": "2019-12-23T16:01:40.502985Z",
     "start_time": "2019-12-23T16:01:40.463075Z"
    }
   },
   "outputs": [
    {
     "data": {
      "text/plain": [
       "((10664, 22), (4571, 22))"
      ]
     },
     "execution_count": 16,
     "metadata": {},
     "output_type": "execute_result"
    }
   ],
   "source": [
    "X2 = informational.drop(['person', 'offer_id', 'received_id', 'offer_successful'], axis=1)\n",
    "y2 = informational['offer_successful']\n",
    "\n",
    "X_train2, X_test2, y_train2, y_test2 = train_test_split(X2, y2, stratify=y2, test_size=0.3, random_state=42)\n",
    "X_train2.shape, X_test2.shape"
   ]
  },
  {
   "cell_type": "markdown",
   "metadata": {},
   "source": [
    "## Test out-of-the-box models"
   ]
  },
  {
   "cell_type": "code",
   "execution_count": 17,
   "metadata": {
    "ExecuteTime": {
     "end_time": "2019-12-23T16:01:48.910971Z",
     "start_time": "2019-12-23T16:01:41.702693Z"
    }
   },
   "outputs": [],
   "source": [
    "seed = 42\n",
    "\n",
    "clfs = [SVC(random_state=seed),\n",
    "        LogisticRegression(random_state=seed),\n",
    "        DummyClassifier(strategy='most_frequent', random_state=seed),\n",
    "        RandomForestClassifier(random_state=seed),\n",
    "        XGBClassifier(random_state=seed)]\n",
    "\n",
    "f1_dict2 = dict()\n",
    "accuracy_dict2 = dict()\n",
    "\n",
    "for clf in clfs:\n",
    "    name = clf.__class__.__name__\n",
    "    \n",
    "    if name in ['SVC', 'LogisticRegression']:\n",
    "        scaler = QuantileTransformer()\n",
    "        scaler.fit(X_train2)\n",
    "        X_train_scaled2 = scaler.transform(X_train2)\n",
    "        X_test_scaled2  = scaler.transform(X_test2)\n",
    "        clf.fit(X_train_scaled2, y_train2)\n",
    "        y_pred2 = clf.predict(X_test_scaled2)\n",
    "    else:\n",
    "        clf.fit(X_train2, y_train2)\n",
    "        y_pred2 = clf.predict(X_test2)\n",
    "    \n",
    "    # record results\n",
    "    f1_dict2[name] = f1_score(y_test2, y_pred2)\n",
    "    accuracy_dict2[name] = accuracy_score(y_test2, y_pred2)"
   ]
  },
  {
   "cell_type": "code",
   "execution_count": 18,
   "metadata": {
    "ExecuteTime": {
     "end_time": "2019-12-23T16:01:48.931681Z",
     "start_time": "2019-12-23T16:01:48.914658Z"
    }
   },
   "outputs": [
    {
     "data": {
      "text/plain": [
       "{'SVC': 0.7467720685111989,\n",
       " 'LogisticRegression': 0.7007760850819201,\n",
       " 'DummyClassifier': 0.0,\n",
       " 'RandomForestClassifier': 0.6668594563331406,\n",
       " 'XGBClassifier': 0.7398749660233759}"
      ]
     },
     "execution_count": 18,
     "metadata": {},
     "output_type": "execute_result"
    }
   ],
   "source": [
    "f1_dict2"
   ]
  },
  {
   "cell_type": "code",
   "execution_count": 19,
   "metadata": {
    "ExecuteTime": {
     "end_time": "2019-12-23T16:01:48.951695Z",
     "start_time": "2019-12-23T16:01:48.940987Z"
    }
   },
   "outputs": [
    {
     "data": {
      "text/plain": [
       "{'SVC': 0.7897615401443885,\n",
       " 'LogisticRegression': 0.7722598993655655,\n",
       " 'DummyClassifier': 0.6217457886676876,\n",
       " 'RandomForestClassifier': 0.7479763727849486,\n",
       " 'XGBClassifier': 0.7906366221833296}"
      ]
     },
     "execution_count": 19,
     "metadata": {},
     "output_type": "execute_result"
    }
   ],
   "source": [
    "accuracy_dict2"
   ]
  },
  {
   "cell_type": "markdown",
   "metadata": {},
   "source": [
    "## Optimize best model"
   ]
  },
  {
   "cell_type": "code",
   "execution_count": 20,
   "metadata": {
    "ExecuteTime": {
     "end_time": "2019-12-23T16:04:49.704946Z",
     "start_time": "2019-12-23T16:01:48.959282Z"
    }
   },
   "outputs": [
    {
     "name": "stdout",
     "output_type": "stream",
     "text": [
      "Fitting 5 folds for each of 50 candidates, totalling 250 fits\n"
     ]
    },
    {
     "name": "stderr",
     "output_type": "stream",
     "text": [
      "[Parallel(n_jobs=-1)]: Done  42 tasks      | elapsed:   32.5s\n",
      "[Parallel(n_jobs=-1)]: Done 192 tasks      | elapsed:  2.2min\n",
      "[Parallel(n_jobs=-1)]: Done 250 out of 250 | elapsed:  2.9min finished\n"
     ]
    },
    {
     "data": {
      "text/plain": [
       "RandomizedSearchCV(cv=5, error_score='raise',\n",
       "          estimator=XGBClassifier(base_score=0.5, booster='gbtree', colsample_bylevel=1,\n",
       "       colsample_bytree=1, gamma=0, learning_rate=0.1, max_delta_step=0,\n",
       "       max_depth=3, min_child_weight=1, missing=None, n_estimators=100,\n",
       "       n_jobs=1, nthread=None, objective='binary:logistic', random_state=0,\n",
       "       reg_alpha=0, reg_lambda=1, scale_pos_weight=1, seed=None,\n",
       "       silent=True, subsample=1),\n",
       "          fit_params=None, iid=True, n_iter=50, n_jobs=-1,\n",
       "          param_distributions={'max_depth': [3, 5, 7, 10], 'learning_rate': [0.001, 0.01, 0.1, 1, 10], 'n_estimators': [50, 100, 300, 500], 'gamma': [0.01, 1, 10], 'reg_alpha': [0.01, 1, 10], 'colsample_bytree': [0.3, 0.5]},\n",
       "          pre_dispatch='2*n_jobs', random_state=42, refit=True,\n",
       "          return_train_score='warn', scoring=None, verbose=1)"
      ]
     },
     "execution_count": 20,
     "metadata": {},
     "output_type": "execute_result"
    }
   ],
   "source": [
    "xgb = XGBClassifier(objective='binary:logistic',\n",
    "                    booster='gbtree')\n",
    "\n",
    "parameters = {'max_depth':[3,5,7,10],\n",
    "             'learning_rate':[0.001,0.01,0.1,1,10],\n",
    "             'n_estimators':[50,100,300,500],\n",
    "             'gamma':[0.01,1,10],\n",
    "             'reg_alpha':[0.01,1,10],\n",
    "             'colsample_bytree':[0.3, 0.5]}\n",
    "\n",
    "search2 = RandomizedSearchCV(xgb, param_distributions=parameters,\n",
    "                            n_iter=50,\n",
    "                            n_jobs=-1,\n",
    "                            cv=5,\n",
    "                            random_state=seed,\n",
    "                            verbose=1)\n",
    "\n",
    "search2.fit(X_train2, y_train2)"
   ]
  },
  {
   "cell_type": "code",
   "execution_count": 22,
   "metadata": {
    "ExecuteTime": {
     "end_time": "2019-12-23T16:06:24.235290Z",
     "start_time": "2019-12-23T16:06:24.198910Z"
    }
   },
   "outputs": [
    {
     "name": "stdout",
     "output_type": "stream",
     "text": [
      "             precision    recall  f1-score   support\n",
      "\n",
      "        0.0       0.86      0.79      0.83      2842\n",
      "        1.0       0.70      0.79      0.74      1729\n",
      "\n",
      "avg / total       0.80      0.79      0.80      4571\n",
      "\n"
     ]
    }
   ],
   "source": [
    "y_pred2 = search2.predict(X_test2)\n",
    "print(classification_report(y_test2, y_pred2))"
   ]
  },
  {
   "cell_type": "code",
   "execution_count": 24,
   "metadata": {
    "ExecuteTime": {
     "end_time": "2019-12-23T16:06:47.751865Z",
     "start_time": "2019-12-23T16:06:47.735134Z"
    }
   },
   "outputs": [
    {
     "data": {
      "text/plain": [
       "array([[2252,  590],\n",
       "       [ 356, 1373]])"
      ]
     },
     "execution_count": 24,
     "metadata": {},
     "output_type": "execute_result"
    }
   ],
   "source": [
    "confusion_matrix(y_test2, y_pred2)"
   ]
  },
  {
   "cell_type": "code",
   "execution_count": 34,
   "metadata": {
    "ExecuteTime": {
     "end_time": "2019-12-23T16:16:40.073333Z",
     "start_time": "2019-12-23T16:16:39.779250Z"
    }
   },
   "outputs": [
    {
     "data": {
      "image/png": "[encoded data removed]",
      "text/plain": [
       "<Figure size 432x288 with 1 Axes>"
      ]
     },
     "metadata": {
      "needs_background": "light"
     },
     "output_type": "display_data"
    }
   ],
   "source": [
    "y_pred_proba2 = search.best_estimator_.predict_proba(X_test2)[:,1]\n",
    "\n",
    "# Create true and false positive rates\n",
    "fpr2, tpr2, threshold = roc_curve(y_test2, y_pred_proba2)\n",
    "plot_roc_curve(fpr2, tpr2, y_test2, y_pred_proba2)"
   ]
  },
  {
   "cell_type": "code",
   "execution_count": 42,
   "metadata": {
    "ExecuteTime": {
     "end_time": "2019-12-23T17:17:31.106961Z",
     "start_time": "2019-12-23T17:17:31.078043Z"
    }
   },
   "outputs": [
    {
     "data": {
      "text/plain": [
       "XGBClassifier(base_score=0.5, booster='gbtree', colsample_bylevel=1,\n",
       "       colsample_bytree=0.5, gamma=10, learning_rate=0.1, max_delta_step=0,\n",
       "       max_depth=7, min_child_weight=1, missing=nan, n_estimators=500,\n",
       "       n_jobs=1, nthread=None, objective='binary:logistic', random_state=0,\n",
       "       reg_alpha=0.01, reg_lambda=1, scale_pos_weight=1, seed=None,\n",
       "       silent=True, subsample=1)"
      ]
     },
     "execution_count": 42,
     "metadata": {},
     "output_type": "execute_result"
    }
   ],
   "source": [
    "# Saving the model\n",
    "filename = 'informational_model.sav'\n",
    "pickle.dump(search2.best_estimator_, open(filename, 'wb'))\n",
    "\n",
    "# Loading the model\n",
    "search2 = pickle.load(open(filename,'rb'))\n",
    "search2"
   ]
  },
  {
   "cell_type": "code",
   "execution_count": null,
   "metadata": {},
   "outputs": [],
   "source": []
  }
 ],
 "metadata": {
  "hide_input": false,
  "kernelspec": {
   "display_name": "Python [conda env:snakes] *",
   "language": "python",
   "name": "conda-env-snakes-py"
  },
  "language_info": {
   "codemirror_mode": {
    "name": "ipython",
    "version": 3
   },
   "file_extension": ".py",
   "mimetype": "text/x-python",
   "name": "python",
   "nbconvert_exporter": "python",
   "pygments_lexer": "ipython3",
   "version": "3.6.9"
  },
  "toc": {
   "nav_menu": {},
   "number_sections": true,
   "sideBar": true,
   "skip_h1_title": false,
   "toc_cell": false,
   "toc_position": {},
   "toc_section_display": "block",
   "toc_window_display": false
  }
 },
 "nbformat": 4,
 "nbformat_minor": 2
}
