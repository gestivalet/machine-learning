{
 "cells": [
  {
   "cell_type": "markdown",
   "metadata": {
    "heading_collapsed": true
   },
   "source": [
    "# Project Outline\n",
    "**Methodology:** for that matter, a [CRISP-DM](https://www.sv-europe.com/crisp-dm-methodology/) approach will be used to cover the following main parts:  \n",
    "- **Business Understanding:** understanding of how are the operations, how the data can be used to support them and what are the main objectives of the project.\n",
    "- **Data Understanding & Preparation:** explore the data to observe the available information, any potential problems and constraints. In addition, any data related issues discovered here will be addressed as the data is ultimately prepared for modeling.\n",
    "- **Data Modeling:** test different modeling approaches and optimize the one(s) with a better initial performance.\n",
    "- **Evaluate the Results:** evaluate the results produced by the optimized classifier and understand how the outputs can best support the business.\n",
    "\n",
    "The first two steps were performed in the `Starbucks_Capstone_notebook_part1.ipynb` file. The last two will be performed here.\n",
    "\n",
    "Before continuing, let's first review the business problems and objectives."
   ]
  },
  {
   "cell_type": "markdown",
   "metadata": {
    "heading_collapsed": true
   },
   "source": [
    "# Business Understanding\n",
    "\n",
    "The dataset portraits a common retailer scenario, where the company sends out offers to its customers in order to keep them engaged and maintain its customer base. As mentioned earlier, this is a simplification of the regular data Starbucks has, but nonetheless the principles and logic behind organizing, cleaning and modeling could also be applied in a real case.\n",
    "\n",
    "With that in mind, below are the main points to discuss before we start the analysis:\n",
    "\n",
    "**Goal: The current project aims to model predict if an offer will be successful given customer demographic information, as well as some of the offer's characteristics.** For that, 2 tables will be used: one containing the similar offers of `BOGO` (buy one and get one), as well as `discount`; and a second containing `informational` offers. The criterias to identify a successful offer are:\n",
    "\n",
    "- **BOGO & discount offers:** for these offers to be considered successful, these events need to happen in sequence:\n",
    "- > **offer received >> offer viewed >> transaction >> offer completed**\n",
    "\n",
    "If these events take place in sequence for the same offer, we will consider it successful and our target for it will be `1`.\n",
    "\n",
    "- **informational offer:** in this case we will need to observe the following:\n",
    "- > **offer received >> offer viewed >> transaction**\n",
    "\n",
    "If these events are seen in this order AND the transaction takes place during the influence period of the offer (variable `duration`), we will consider it successful and the target will also be `1`.\n",
    "\n",
    "For all other scenarios, the offers will be considered unsuccessful and the target will be `0`.\n",
    "\n",
    "Given these parameters, this is a supervised classification problem and, as such, potential metrics to evaluate the task's success are:\n",
    "- [`accuracy score`](https://scikit-learn.org/stable/modules/generated/sklearn.metrics.accuracy_score.html): according to the Scikit-Learn documentation, _the accuracy_score function computes the accuracy, either the fraction (default) or the count (normalize=False) of correct predictions._ This metric is widely used in such classification problems and it's best used for more balanced datasets (when the number of positive and negative cases are similar).\n",
    "- [`f1 score`](https://scikit-learn.org/stable/modules/generated/sklearn.metrics.f1_score.html): similarly, the F1 Score also evaluates the performance of the classifier, but as it takes into account both precision (_the ability of the classifier not to label as positive a sample that is negative_) and recall (_the ability of the classifier to find all the positive samples_), it normally has more evaluation power in unbalanced datasets. In fact, this is the harmonic mean of precision and recall and is defined as: `F1 = 2 * (precision * recall) / (precision + recall)`  Source: Scikit-Learn Documentation.\n",
    "\n",
    "For both metrics, the higher, the better.\n",
    "\n",
    "Now that we have reviewed the task at hand, let's continue with part 2!"
   ]
  },
  {
   "cell_type": "markdown",
   "metadata": {},
   "source": [
    "# Imports"
   ]
  },
  {
   "cell_type": "code",
   "execution_count": 70,
   "metadata": {
    "ExecuteTime": {
     "end_time": "2019-12-23T22:29:04.717940Z",
     "start_time": "2019-12-23T22:29:04.698004Z"
    }
   },
   "outputs": [
    {
     "data": {
      "text/html": [
       "<style>.container { width:100% !important; }</style>"
      ],
      "text/plain": [
       "<IPython.core.display.HTML object>"
      ]
     },
     "metadata": {},
     "output_type": "display_data"
    }
   ],
   "source": [
    "from IPython.core.display import display, HTML\n",
    "display(HTML(\"<style>.container { width:100% !important; }</style>\"))\n",
    "\n",
    "import warnings\n",
    "warnings.filterwarnings(\"ignore\")\n",
    "\n",
    "import pandas as pd\n",
    "import numpy as np\n",
    "import pickle\n",
    "import matplotlib.pyplot as plt\n",
    "import seaborn as sns\n",
    "%matplotlib inline\n",
    "\n",
    "from sklearn.model_selection import train_test_split, GridSearchCV, RandomizedSearchCV\n",
    "from sklearn.dummy import DummyClassifier\n",
    "from sklearn.ensemble import RandomForestClassifier\n",
    "from xgboost import XGBClassifier\n",
    "from sklearn.svm import SVC\n",
    "from sklearn.linear_model import LogisticRegression\n",
    "\n",
    "from sklearn.preprocessing import QuantileTransformer\n",
    "from sklearn.metrics import (confusion_matrix, classification_report, f1_score,\n",
    "                             accuracy_score, recall_score, roc_auc_score,\n",
    "                             roc_curve, precision_score, auc)\n",
    "\n",
    "pd.options.display.max_columns=100\n",
    "\n",
    "def plot_roc_curve(fpr, tpr, y_true, y_score):\n",
    "    plt.title('Receiver Operating Characteristic: {:.3}'.format(roc_auc_score(y_true, y_score)))\n",
    "    plt.plot(fpr, tpr)\n",
    "    plt.plot([0, 1], ls=\"--\")\n",
    "    plt.plot([0, 0], [1, 0] , c=\".7\")\n",
    "    plt.plot([1, 1] , c=\".7\")\n",
    "    plt.ylabel('True Positive Rate')\n",
    "    plt.xlabel('False Positive Rate')\n",
    "    plt.show()"
   ]
  },
  {
   "cell_type": "markdown",
   "metadata": {},
   "source": [
    "# Data load"
   ]
  },
  {
   "cell_type": "code",
   "execution_count": 4,
   "metadata": {
    "ExecuteTime": {
     "end_time": "2019-12-23T20:06:10.358821Z",
     "start_time": "2019-12-23T20:06:10.088276Z"
    }
   },
   "outputs": [
    {
     "name": "stdout",
     "output_type": "stream",
     "text": [
      "(61042, 26)\n",
      "0    36834\n",
      "1    24208\n",
      "Name: offer_successful, dtype: int64\n"
     ]
    },
    {
     "data": {
      "text/html": [
       "<div>\n",
       "<style scoped>\n",
       "    .dataframe tbody tr th:only-of-type {\n",
       "        vertical-align: middle;\n",
       "    }\n",
       "\n",
       "    .dataframe tbody tr th {\n",
       "        vertical-align: top;\n",
       "    }\n",
       "\n",
       "    .dataframe thead th {\n",
       "        text-align: right;\n",
       "    }\n",
       "</style>\n",
       "<table border=\"1\" class=\"dataframe\">\n",
       "  <thead>\n",
       "    <tr style=\"text-align: right;\">\n",
       "      <th></th>\n",
       "      <th>person</th>\n",
       "      <th>offer_id</th>\n",
       "      <th>received_id</th>\n",
       "      <th>offer_successful</th>\n",
       "      <th>sum_event_offer_received</th>\n",
       "      <th>sum_event_offer_viewed</th>\n",
       "      <th>sum_event_transaction</th>\n",
       "      <th>sum_event_offer_completed</th>\n",
       "      <th>sum_amount</th>\n",
       "      <th>mean_difficulty</th>\n",
       "      <th>mean_amount</th>\n",
       "      <th>count_received_id</th>\n",
       "      <th>channel_email</th>\n",
       "      <th>channel_mobile</th>\n",
       "      <th>channel_social</th>\n",
       "      <th>channel_web</th>\n",
       "      <th>age</th>\n",
       "      <th>income</th>\n",
       "      <th>gender_F</th>\n",
       "      <th>gender_M</th>\n",
       "      <th>gender_O</th>\n",
       "      <th>gender_Unknown</th>\n",
       "      <th>year</th>\n",
       "      <th>month</th>\n",
       "      <th>day</th>\n",
       "      <th>week</th>\n",
       "    </tr>\n",
       "  </thead>\n",
       "  <tbody>\n",
       "    <tr>\n",
       "      <th>0</th>\n",
       "      <td>0009655768c64bdeb2e877511632db8f</td>\n",
       "      <td>2906b810c7d4411798c6938adc9daaa5</td>\n",
       "      <td>0.0</td>\n",
       "      <td>0</td>\n",
       "      <td>3</td>\n",
       "      <td>2</td>\n",
       "      <td>7</td>\n",
       "      <td>3</td>\n",
       "      <td>105.44</td>\n",
       "      <td>8.125</td>\n",
       "      <td>7.029333</td>\n",
       "      <td>3.0</td>\n",
       "      <td>1.0</td>\n",
       "      <td>1.0</td>\n",
       "      <td>0.0</td>\n",
       "      <td>1.0</td>\n",
       "      <td>33</td>\n",
       "      <td>72000.0</td>\n",
       "      <td>0</td>\n",
       "      <td>1</td>\n",
       "      <td>0</td>\n",
       "      <td>0</td>\n",
       "      <td>2017</td>\n",
       "      <td>4</td>\n",
       "      <td>21</td>\n",
       "      <td>16</td>\n",
       "    </tr>\n",
       "    <tr>\n",
       "      <th>1</th>\n",
       "      <td>0009655768c64bdeb2e877511632db8f</td>\n",
       "      <td>f19421c1d4aa40978ebb69ca19b0e20d</td>\n",
       "      <td>3.0</td>\n",
       "      <td>0</td>\n",
       "      <td>3</td>\n",
       "      <td>2</td>\n",
       "      <td>7</td>\n",
       "      <td>3</td>\n",
       "      <td>105.44</td>\n",
       "      <td>8.125</td>\n",
       "      <td>7.029333</td>\n",
       "      <td>3.0</td>\n",
       "      <td>1.0</td>\n",
       "      <td>1.0</td>\n",
       "      <td>1.0</td>\n",
       "      <td>1.0</td>\n",
       "      <td>33</td>\n",
       "      <td>72000.0</td>\n",
       "      <td>0</td>\n",
       "      <td>1</td>\n",
       "      <td>0</td>\n",
       "      <td>0</td>\n",
       "      <td>2017</td>\n",
       "      <td>4</td>\n",
       "      <td>21</td>\n",
       "      <td>16</td>\n",
       "    </tr>\n",
       "    <tr>\n",
       "      <th>2</th>\n",
       "      <td>0009655768c64bdeb2e877511632db8f</td>\n",
       "      <td>fafdcd668e3743c1bb461111dcafc2a4</td>\n",
       "      <td>4.0</td>\n",
       "      <td>1</td>\n",
       "      <td>3</td>\n",
       "      <td>2</td>\n",
       "      <td>7</td>\n",
       "      <td>3</td>\n",
       "      <td>105.44</td>\n",
       "      <td>8.125</td>\n",
       "      <td>7.029333</td>\n",
       "      <td>3.0</td>\n",
       "      <td>1.0</td>\n",
       "      <td>1.0</td>\n",
       "      <td>1.0</td>\n",
       "      <td>1.0</td>\n",
       "      <td>33</td>\n",
       "      <td>72000.0</td>\n",
       "      <td>0</td>\n",
       "      <td>1</td>\n",
       "      <td>0</td>\n",
       "      <td>0</td>\n",
       "      <td>2017</td>\n",
       "      <td>4</td>\n",
       "      <td>21</td>\n",
       "      <td>16</td>\n",
       "    </tr>\n",
       "    <tr>\n",
       "      <th>3</th>\n",
       "      <td>00116118485d4dfda04fdbaba9a87b5c</td>\n",
       "      <td>f19421c1d4aa40978ebb69ca19b0e20d</td>\n",
       "      <td>5.0</td>\n",
       "      <td>0</td>\n",
       "      <td>2</td>\n",
       "      <td>2</td>\n",
       "      <td>3</td>\n",
       "      <td>0</td>\n",
       "      <td>4.09</td>\n",
       "      <td>5.000</td>\n",
       "      <td>0.584286</td>\n",
       "      <td>2.0</td>\n",
       "      <td>1.0</td>\n",
       "      <td>1.0</td>\n",
       "      <td>1.0</td>\n",
       "      <td>1.0</td>\n",
       "      <td>118</td>\n",
       "      <td>0.0</td>\n",
       "      <td>0</td>\n",
       "      <td>0</td>\n",
       "      <td>0</td>\n",
       "      <td>1</td>\n",
       "      <td>2018</td>\n",
       "      <td>4</td>\n",
       "      <td>25</td>\n",
       "      <td>17</td>\n",
       "    </tr>\n",
       "    <tr>\n",
       "      <th>4</th>\n",
       "      <td>00116118485d4dfda04fdbaba9a87b5c</td>\n",
       "      <td>f19421c1d4aa40978ebb69ca19b0e20d</td>\n",
       "      <td>6.0</td>\n",
       "      <td>0</td>\n",
       "      <td>2</td>\n",
       "      <td>2</td>\n",
       "      <td>3</td>\n",
       "      <td>0</td>\n",
       "      <td>4.09</td>\n",
       "      <td>5.000</td>\n",
       "      <td>0.584286</td>\n",
       "      <td>2.0</td>\n",
       "      <td>1.0</td>\n",
       "      <td>1.0</td>\n",
       "      <td>1.0</td>\n",
       "      <td>1.0</td>\n",
       "      <td>118</td>\n",
       "      <td>0.0</td>\n",
       "      <td>0</td>\n",
       "      <td>0</td>\n",
       "      <td>0</td>\n",
       "      <td>1</td>\n",
       "      <td>2018</td>\n",
       "      <td>4</td>\n",
       "      <td>25</td>\n",
       "      <td>17</td>\n",
       "    </tr>\n",
       "  </tbody>\n",
       "</table>\n",
       "</div>"
      ],
      "text/plain": [
       "                             person                          offer_id  \\\n",
       "0  0009655768c64bdeb2e877511632db8f  2906b810c7d4411798c6938adc9daaa5   \n",
       "1  0009655768c64bdeb2e877511632db8f  f19421c1d4aa40978ebb69ca19b0e20d   \n",
       "2  0009655768c64bdeb2e877511632db8f  fafdcd668e3743c1bb461111dcafc2a4   \n",
       "3  00116118485d4dfda04fdbaba9a87b5c  f19421c1d4aa40978ebb69ca19b0e20d   \n",
       "4  00116118485d4dfda04fdbaba9a87b5c  f19421c1d4aa40978ebb69ca19b0e20d   \n",
       "\n",
       "   received_id  offer_successful  sum_event_offer_received  \\\n",
       "0          0.0                 0                         3   \n",
       "1          3.0                 0                         3   \n",
       "2          4.0                 1                         3   \n",
       "3          5.0                 0                         2   \n",
       "4          6.0                 0                         2   \n",
       "\n",
       "   sum_event_offer_viewed  sum_event_transaction  sum_event_offer_completed  \\\n",
       "0                       2                      7                          3   \n",
       "1                       2                      7                          3   \n",
       "2                       2                      7                          3   \n",
       "3                       2                      3                          0   \n",
       "4                       2                      3                          0   \n",
       "\n",
       "   sum_amount  mean_difficulty  mean_amount  count_received_id  channel_email  \\\n",
       "0      105.44            8.125     7.029333                3.0            1.0   \n",
       "1      105.44            8.125     7.029333                3.0            1.0   \n",
       "2      105.44            8.125     7.029333                3.0            1.0   \n",
       "3        4.09            5.000     0.584286                2.0            1.0   \n",
       "4        4.09            5.000     0.584286                2.0            1.0   \n",
       "\n",
       "   channel_mobile  channel_social  channel_web  age   income  gender_F  \\\n",
       "0             1.0             0.0          1.0   33  72000.0         0   \n",
       "1             1.0             1.0          1.0   33  72000.0         0   \n",
       "2             1.0             1.0          1.0   33  72000.0         0   \n",
       "3             1.0             1.0          1.0  118      0.0         0   \n",
       "4             1.0             1.0          1.0  118      0.0         0   \n",
       "\n",
       "   gender_M  gender_O  gender_Unknown  year  month  day  week  \n",
       "0         1         0               0  2017      4   21    16  \n",
       "1         1         0               0  2017      4   21    16  \n",
       "2         1         0               0  2017      4   21    16  \n",
       "3         0         0               1  2018      4   25    17  \n",
       "4         0         0               1  2018      4   25    17  "
      ]
     },
     "execution_count": 4,
     "metadata": {},
     "output_type": "execute_result"
    }
   ],
   "source": [
    "bogodis = pd.read_csv('data/bogodis.csv')\n",
    "print(bogodis.shape)\n",
    "print(bogodis.offer_successful.value_counts())\n",
    "bogodis.head()"
   ]
  },
  {
   "cell_type": "code",
   "execution_count": 5,
   "metadata": {
    "ExecuteTime": {
     "end_time": "2019-12-23T20:06:13.743654Z",
     "start_time": "2019-12-23T20:06:13.629453Z"
    }
   },
   "outputs": [
    {
     "name": "stdout",
     "output_type": "stream",
     "text": [
      "(15235, 26)\n",
      "0.0    9473\n",
      "1.0    5762\n",
      "Name: offer_successful, dtype: int64\n"
     ]
    },
    {
     "data": {
      "text/html": [
       "<div>\n",
       "<style scoped>\n",
       "    .dataframe tbody tr th:only-of-type {\n",
       "        vertical-align: middle;\n",
       "    }\n",
       "\n",
       "    .dataframe tbody tr th {\n",
       "        vertical-align: top;\n",
       "    }\n",
       "\n",
       "    .dataframe thead th {\n",
       "        text-align: right;\n",
       "    }\n",
       "</style>\n",
       "<table border=\"1\" class=\"dataframe\">\n",
       "  <thead>\n",
       "    <tr style=\"text-align: right;\">\n",
       "      <th></th>\n",
       "      <th>person</th>\n",
       "      <th>offer_id</th>\n",
       "      <th>received_id</th>\n",
       "      <th>offer_successful</th>\n",
       "      <th>sum_event_offer_received</th>\n",
       "      <th>sum_event_offer_viewed</th>\n",
       "      <th>sum_event_transaction</th>\n",
       "      <th>sum_event_offer_completed</th>\n",
       "      <th>sum_amount</th>\n",
       "      <th>mean_difficulty</th>\n",
       "      <th>mean_amount</th>\n",
       "      <th>count_received_id</th>\n",
       "      <th>channel_email</th>\n",
       "      <th>channel_mobile</th>\n",
       "      <th>channel_social</th>\n",
       "      <th>channel_web</th>\n",
       "      <th>age</th>\n",
       "      <th>income</th>\n",
       "      <th>gender_F</th>\n",
       "      <th>gender_M</th>\n",
       "      <th>gender_O</th>\n",
       "      <th>gender_Unknown</th>\n",
       "      <th>year</th>\n",
       "      <th>month</th>\n",
       "      <th>day</th>\n",
       "      <th>week</th>\n",
       "    </tr>\n",
       "  </thead>\n",
       "  <tbody>\n",
       "    <tr>\n",
       "      <th>0</th>\n",
       "      <td>0009655768c64bdeb2e877511632db8f</td>\n",
       "      <td>3f207df678b143eea3cee63160fa8bed</td>\n",
       "      <td>1.0</td>\n",
       "      <td>0.0</td>\n",
       "      <td>2</td>\n",
       "      <td>2</td>\n",
       "      <td>1</td>\n",
       "      <td>0</td>\n",
       "      <td>22.16</td>\n",
       "      <td>0.0</td>\n",
       "      <td>4.432</td>\n",
       "      <td>2.0</td>\n",
       "      <td>1.0</td>\n",
       "      <td>1.0</td>\n",
       "      <td>0.0</td>\n",
       "      <td>1.0</td>\n",
       "      <td>33</td>\n",
       "      <td>72000.0</td>\n",
       "      <td>0</td>\n",
       "      <td>1</td>\n",
       "      <td>0</td>\n",
       "      <td>0</td>\n",
       "      <td>2017</td>\n",
       "      <td>4</td>\n",
       "      <td>21</td>\n",
       "      <td>16</td>\n",
       "    </tr>\n",
       "    <tr>\n",
       "      <th>1</th>\n",
       "      <td>0009655768c64bdeb2e877511632db8f</td>\n",
       "      <td>5a8bc65990b245e5a138643cd4eb9837</td>\n",
       "      <td>2.0</td>\n",
       "      <td>1.0</td>\n",
       "      <td>2</td>\n",
       "      <td>2</td>\n",
       "      <td>1</td>\n",
       "      <td>0</td>\n",
       "      <td>22.16</td>\n",
       "      <td>0.0</td>\n",
       "      <td>4.432</td>\n",
       "      <td>2.0</td>\n",
       "      <td>1.0</td>\n",
       "      <td>1.0</td>\n",
       "      <td>1.0</td>\n",
       "      <td>0.0</td>\n",
       "      <td>33</td>\n",
       "      <td>72000.0</td>\n",
       "      <td>0</td>\n",
       "      <td>1</td>\n",
       "      <td>0</td>\n",
       "      <td>0</td>\n",
       "      <td>2017</td>\n",
       "      <td>4</td>\n",
       "      <td>21</td>\n",
       "      <td>16</td>\n",
       "    </tr>\n",
       "    <tr>\n",
       "      <th>2</th>\n",
       "      <td>0011e0d4e6b944f998e987f904e8c1e5</td>\n",
       "      <td>3f207df678b143eea3cee63160fa8bed</td>\n",
       "      <td>9.0</td>\n",
       "      <td>0.0</td>\n",
       "      <td>2</td>\n",
       "      <td>2</td>\n",
       "      <td>1</td>\n",
       "      <td>0</td>\n",
       "      <td>13.49</td>\n",
       "      <td>0.0</td>\n",
       "      <td>2.698</td>\n",
       "      <td>2.0</td>\n",
       "      <td>1.0</td>\n",
       "      <td>1.0</td>\n",
       "      <td>0.0</td>\n",
       "      <td>1.0</td>\n",
       "      <td>40</td>\n",
       "      <td>57000.0</td>\n",
       "      <td>0</td>\n",
       "      <td>0</td>\n",
       "      <td>1</td>\n",
       "      <td>0</td>\n",
       "      <td>2018</td>\n",
       "      <td>1</td>\n",
       "      <td>9</td>\n",
       "      <td>2</td>\n",
       "    </tr>\n",
       "    <tr>\n",
       "      <th>3</th>\n",
       "      <td>0011e0d4e6b944f998e987f904e8c1e5</td>\n",
       "      <td>5a8bc65990b245e5a138643cd4eb9837</td>\n",
       "      <td>10.0</td>\n",
       "      <td>0.0</td>\n",
       "      <td>2</td>\n",
       "      <td>2</td>\n",
       "      <td>1</td>\n",
       "      <td>0</td>\n",
       "      <td>13.49</td>\n",
       "      <td>0.0</td>\n",
       "      <td>2.698</td>\n",
       "      <td>2.0</td>\n",
       "      <td>1.0</td>\n",
       "      <td>1.0</td>\n",
       "      <td>1.0</td>\n",
       "      <td>0.0</td>\n",
       "      <td>40</td>\n",
       "      <td>57000.0</td>\n",
       "      <td>0</td>\n",
       "      <td>0</td>\n",
       "      <td>1</td>\n",
       "      <td>0</td>\n",
       "      <td>2018</td>\n",
       "      <td>1</td>\n",
       "      <td>9</td>\n",
       "      <td>2</td>\n",
       "    </tr>\n",
       "    <tr>\n",
       "      <th>4</th>\n",
       "      <td>0020c2b971eb4e9188eac86d93036a77</td>\n",
       "      <td>5a8bc65990b245e5a138643cd4eb9837</td>\n",
       "      <td>13.0</td>\n",
       "      <td>0.0</td>\n",
       "      <td>1</td>\n",
       "      <td>1</td>\n",
       "      <td>3</td>\n",
       "      <td>0</td>\n",
       "      <td>64.67</td>\n",
       "      <td>0.0</td>\n",
       "      <td>12.934</td>\n",
       "      <td>1.0</td>\n",
       "      <td>1.0</td>\n",
       "      <td>1.0</td>\n",
       "      <td>1.0</td>\n",
       "      <td>0.0</td>\n",
       "      <td>59</td>\n",
       "      <td>90000.0</td>\n",
       "      <td>1</td>\n",
       "      <td>0</td>\n",
       "      <td>0</td>\n",
       "      <td>0</td>\n",
       "      <td>2016</td>\n",
       "      <td>3</td>\n",
       "      <td>4</td>\n",
       "      <td>9</td>\n",
       "    </tr>\n",
       "  </tbody>\n",
       "</table>\n",
       "</div>"
      ],
      "text/plain": [
       "                             person                          offer_id  \\\n",
       "0  0009655768c64bdeb2e877511632db8f  3f207df678b143eea3cee63160fa8bed   \n",
       "1  0009655768c64bdeb2e877511632db8f  5a8bc65990b245e5a138643cd4eb9837   \n",
       "2  0011e0d4e6b944f998e987f904e8c1e5  3f207df678b143eea3cee63160fa8bed   \n",
       "3  0011e0d4e6b944f998e987f904e8c1e5  5a8bc65990b245e5a138643cd4eb9837   \n",
       "4  0020c2b971eb4e9188eac86d93036a77  5a8bc65990b245e5a138643cd4eb9837   \n",
       "\n",
       "   received_id  offer_successful  sum_event_offer_received  \\\n",
       "0          1.0               0.0                         2   \n",
       "1          2.0               1.0                         2   \n",
       "2          9.0               0.0                         2   \n",
       "3         10.0               0.0                         2   \n",
       "4         13.0               0.0                         1   \n",
       "\n",
       "   sum_event_offer_viewed  sum_event_transaction  sum_event_offer_completed  \\\n",
       "0                       2                      1                          0   \n",
       "1                       2                      1                          0   \n",
       "2                       2                      1                          0   \n",
       "3                       2                      1                          0   \n",
       "4                       1                      3                          0   \n",
       "\n",
       "   sum_amount  mean_difficulty  mean_amount  count_received_id  channel_email  \\\n",
       "0       22.16              0.0        4.432                2.0            1.0   \n",
       "1       22.16              0.0        4.432                2.0            1.0   \n",
       "2       13.49              0.0        2.698                2.0            1.0   \n",
       "3       13.49              0.0        2.698                2.0            1.0   \n",
       "4       64.67              0.0       12.934                1.0            1.0   \n",
       "\n",
       "   channel_mobile  channel_social  channel_web  age   income  gender_F  \\\n",
       "0             1.0             0.0          1.0   33  72000.0         0   \n",
       "1             1.0             1.0          0.0   33  72000.0         0   \n",
       "2             1.0             0.0          1.0   40  57000.0         0   \n",
       "3             1.0             1.0          0.0   40  57000.0         0   \n",
       "4             1.0             1.0          0.0   59  90000.0         1   \n",
       "\n",
       "   gender_M  gender_O  gender_Unknown  year  month  day  week  \n",
       "0         1         0               0  2017      4   21    16  \n",
       "1         1         0               0  2017      4   21    16  \n",
       "2         0         1               0  2018      1    9     2  \n",
       "3         0         1               0  2018      1    9     2  \n",
       "4         0         0               0  2016      3    4     9  "
      ]
     },
     "execution_count": 5,
     "metadata": {},
     "output_type": "execute_result"
    }
   ],
   "source": [
    "informational = pd.read_csv('data/informational.csv')\n",
    "print(informational.shape)\n",
    "print(informational.offer_successful.value_counts())\n",
    "informational.head()"
   ]
  },
  {
   "cell_type": "markdown",
   "metadata": {},
   "source": [
    "Both datasets were organized in part 1 and they both present the same features for modeling.\n",
    "\n",
    "In our approach, different models will be tested on the data with default parameters. The best performing one will be optimized so we can improve our metrics.\n",
    "\n",
    "Important to note that some features were organized with a tree-based model in mind. Such features are `year`, `month`, `week` and `day`. Each one has the period in which the customer has become a member. Together, they used to form the variable `became_member_on`, which was a time stamp. Note that for linear models, a more common approach would be to create dummy variables for at least `year` and `month`, since we wouldn't greatly increase the feature space. As `week` and `day` have many possible values, creating dummies out of them would increase the dimensions of the table without necessarily providing more information. Tree-based models make axis parallel partitions in the data and, thus, dummies are not necessary.\n",
    "\n",
    "Nonetheless, some linear models will be tested on the data to provide us a reference of how they could perform.\n",
    "\n",
    "The models that will be tested are:\n",
    "- [SVC](https://scikit-learn.org/stable/modules/generated/sklearn.svm.SVC.html)\n",
    "- [Logistic Regression](https://scikit-learn.org/stable/modules/generated/sklearn.linear_model.LogisticRegression.html)\n",
    "- [Dummy Classifier](https://scikit-learn.org/stable/modules/generated/sklearn.dummy.DummyClassifier.html)\n",
    "- [Random Forest Classifier](https://scikit-learn.org/stable/modules/generated/sklearn.ensemble.RandomForestClassifier.html)\n",
    "- [XGBoost Classifier](https://xgboost.readthedocs.io/en/latest/)\n",
    "\n",
    "`Dummy Classifier` will be used as a benchmark, as it will always yield the `most frequent value` in the data (this is the selected strategy)"
   ]
  },
  {
   "cell_type": "markdown",
   "metadata": {},
   "source": [
    "# 1ST MODELING TASK: `BOGO` and `discount` offers"
   ]
  },
  {
   "cell_type": "markdown",
   "metadata": {
    "heading_collapsed": true
   },
   "source": [
    "## partition: `BOGO` and `discount` offers\n",
    "This will be done twice, as we have 2 different datasets. Let's start with the `bogodis` dataset, which has both the `BOGO` and `discount` offers."
   ]
  },
  {
   "cell_type": "code",
   "execution_count": 6,
   "metadata": {
    "ExecuteTime": {
     "end_time": "2019-12-23T20:06:16.291073Z",
     "start_time": "2019-12-23T20:06:16.220906Z"
    },
    "hidden": true
   },
   "outputs": [
    {
     "data": {
      "text/plain": [
       "((42729, 22), (18313, 22))"
      ]
     },
     "execution_count": 6,
     "metadata": {},
     "output_type": "execute_result"
    }
   ],
   "source": [
    "X = bogodis.drop(['person', 'offer_id', 'received_id', 'offer_successful'], axis=1)\n",
    "y = bogodis['offer_successful']\n",
    "\n",
    "X_train, X_test, y_train, y_test = train_test_split(X, y, stratify=y, test_size=0.3, random_state=42)\n",
    "X_train.shape, X_test.shape"
   ]
  },
  {
   "cell_type": "markdown",
   "metadata": {},
   "source": [
    "## Test out-of-the-box models: `BOGO` and `discount` offers"
   ]
  },
  {
   "cell_type": "markdown",
   "metadata": {},
   "source": [
    "Let's see how the selected models perform in the data with no parameter tunning. `random_state` will be set, though, so the results are reproducible."
   ]
  },
  {
   "cell_type": "code",
   "execution_count": 8,
   "metadata": {
    "ExecuteTime": {
     "end_time": "2019-12-23T15:37:05.203670Z",
     "start_time": "2019-12-23T15:35:43.976628Z"
    }
   },
   "outputs": [
    {
     "name": "stderr",
     "output_type": "stream",
     "text": [
      "/Users/gabrielestivalet/anaconda/envs/snakes/lib/python3.6/site-packages/sklearn/metrics/classification.py:1135: UndefinedMetricWarning: F-score is ill-defined and being set to 0.0 due to no predicted samples.\n",
      "  'precision', 'predicted', average, warn_for)\n",
      "/Users/gabrielestivalet/anaconda/envs/snakes/lib/python3.6/site-packages/sklearn/preprocessing/label.py:151: DeprecationWarning: The truth value of an empty array is ambiguous. Returning False, but in future this will result in an error. Use `array.size > 0` to check that an array is not empty.\n",
      "  if diff:\n"
     ]
    }
   ],
   "source": [
    "seed = 42\n",
    "\n",
    "clfs = [SVC(random_state=seed),\n",
    "        LogisticRegression(random_state=seed),\n",
    "        DummyClassifier(strategy='most_frequent', random_state=seed),\n",
    "        RandomForestClassifier(random_state=seed),\n",
    "        XGBClassifier(random_state=seed)]\n",
    "\n",
    "f1_dict = dict()\n",
    "accuracy_dict = dict()\n",
    "\n",
    "for clf in clfs:\n",
    "    name = clf.__class__.__name__\n",
    "    \n",
    "    if name in ['SVC', 'LogisticRegression']:\n",
    "        scaler = QuantileTransformer()\n",
    "        scaler.fit(X_train)\n",
    "        X_train_scaled = scaler.transform(X_train)\n",
    "        X_test_scaled  = scaler.transform(X_test)\n",
    "        clf.fit(X_train_scaled, y_train)\n",
    "        y_pred = clf.predict(X_test_scaled)\n",
    "    else:\n",
    "        clf.fit(X_train, y_train)\n",
    "        y_pred = clf.predict(X_test)\n",
    "    \n",
    "    # record results\n",
    "    f1_dict[name] = f1_score(y_test, y_pred)\n",
    "    accuracy_dict[name] = accuracy_score(y_test, y_pred)"
   ]
  },
  {
   "cell_type": "code",
   "execution_count": 9,
   "metadata": {
    "ExecuteTime": {
     "end_time": "2019-12-23T15:37:12.893115Z",
     "start_time": "2019-12-23T15:37:12.885074Z"
    }
   },
   "outputs": [
    {
     "data": {
      "text/plain": [
       "{'SVC': 0.7750940814231955,\n",
       " 'LogisticRegression': 0.7592707258341933,\n",
       " 'DummyClassifier': 0.0,\n",
       " 'RandomForestClassifier': 0.6873859969131472,\n",
       " 'XGBClassifier': 0.7815966041352869}"
      ]
     },
     "execution_count": 9,
     "metadata": {},
     "output_type": "execute_result"
    }
   ],
   "source": [
    "f1_dict"
   ]
  },
  {
   "cell_type": "code",
   "execution_count": 10,
   "metadata": {
    "ExecuteTime": {
     "end_time": "2019-12-23T15:37:23.198097Z",
     "start_time": "2019-12-23T15:37:23.189112Z"
    }
   },
   "outputs": [
    {
     "data": {
      "text/plain": [
       "{'SVC': 0.8205100202042265,\n",
       " 'LogisticRegression': 0.8089335444766014,\n",
       " 'DummyClassifier': 0.6033964942936711,\n",
       " 'RandomForestClassifier': 0.7566755856495386,\n",
       " 'XGBClassifier': 0.8258068039097909}"
      ]
     },
     "execution_count": 10,
     "metadata": {},
     "output_type": "execute_result"
    }
   ],
   "source": [
    "accuracy_dict"
   ]
  },
  {
   "cell_type": "code",
   "execution_count": 36,
   "metadata": {
    "ExecuteTime": {
     "end_time": "2019-12-23T21:24:57.218234Z",
     "start_time": "2019-12-23T21:24:57.210076Z"
    }
   },
   "outputs": [
    {
     "data": {
      "text/plain": [
       "0.39657940434454964"
      ]
     },
     "execution_count": 36,
     "metadata": {},
     "output_type": "execute_result"
    }
   ],
   "source": [
    "y.mean()"
   ]
  },
  {
   "cell_type": "markdown",
   "metadata": {},
   "source": [
    "As we can see, `xgboost` has performed better than all other models. Normally, this model outperforms most algorithm but it is not necessarily always the best choice for all problems.\n",
    "\n",
    "Curiously, Both `SVC` and `Logistic Regression` have performed almost as good as `xgboost`. This could indicate that perhaps some more feature engineering and model testing could be made in future iterations.\n",
    "\n",
    "Finally, as the dataset is fairly balanced, both `accuracy` and `f1_score` present high values out-of-the-box. The exception would be the `DummyClassifier` that scores low in `accuracy` and `0` according to `f1_score`. In fact, this metric will always have a value of `0` for a classifier that predicts a constant value.\n",
    "\n",
    "Let's proceed for optimization and further evaluations."
   ]
  },
  {
   "cell_type": "markdown",
   "metadata": {
    "heading_collapsed": true
   },
   "source": [
    "## Optimize best model: `BOGO` and `discount` offers\n",
    "For the optimization, a modest parameter search will be provided to a `RandomizedSearchCV` meta-estimator combined with a 5-fold cross-validation to help avoid overfitting and properly tuning the model."
   ]
  },
  {
   "cell_type": "code",
   "execution_count": 14,
   "metadata": {
    "ExecuteTime": {
     "end_time": "2019-12-23T15:56:28.593726Z",
     "start_time": "2019-12-23T15:43:58.217373Z"
    },
    "hidden": true
   },
   "outputs": [
    {
     "name": "stdout",
     "output_type": "stream",
     "text": [
      "Fitting 5 folds for each of 50 candidates, totalling 250 fits\n"
     ]
    },
    {
     "name": "stderr",
     "output_type": "stream",
     "text": [
      "[Parallel(n_jobs=-1)]: Done  42 tasks      | elapsed:  2.0min\n",
      "[Parallel(n_jobs=-1)]: Done 192 tasks      | elapsed:  9.1min\n",
      "[Parallel(n_jobs=-1)]: Done 250 out of 250 | elapsed: 12.1min finished\n"
     ]
    },
    {
     "data": {
      "text/plain": [
       "RandomizedSearchCV(cv=5, error_score='raise',\n",
       "          estimator=XGBClassifier(base_score=0.5, booster='gbtree', colsample_bylevel=1,\n",
       "       colsample_bytree=1, gamma=0, learning_rate=0.1, max_delta_step=0,\n",
       "       max_depth=3, min_child_weight=1, missing=None, n_estimators=100,\n",
       "       n_jobs=1, nthread=None, objective='binary:logistic', random_state=0,\n",
       "       reg_alpha=0, reg_lambda=1, scale_pos_weight=1, seed=None,\n",
       "       silent=True, subsample=1),\n",
       "          fit_params=None, iid=True, n_iter=50, n_jobs=-1,\n",
       "          param_distributions={'max_depth': [3, 5, 7, 10], 'learning_rate': [0.001, 0.01, 0.1, 1, 10], 'n_estimators': [50, 100, 300, 500], 'gamma': [0.01, 1, 10], 'reg_alpha': [0.01, 1, 10], 'colsample_bytree': [0.3, 0.5]},\n",
       "          pre_dispatch='2*n_jobs', random_state=42, refit=True,\n",
       "          return_train_score='warn', scoring=None, verbose=1)"
      ]
     },
     "execution_count": 14,
     "metadata": {},
     "output_type": "execute_result"
    }
   ],
   "source": [
    "xgb = XGBClassifier(objective='binary:logistic',\n",
    "                    booster='gbtree')\n",
    "\n",
    "parameters = {'max_depth':[3,5,7,10],\n",
    "             'learning_rate':[0.001,0.01,0.1,1,10],\n",
    "             'n_estimators':[50,100,300,500],\n",
    "             'gamma':[0.01,1,10],\n",
    "             'reg_alpha':[0.01,1,10],\n",
    "             'colsample_bytree':[0.3, 0.5]}\n",
    "\n",
    "search = RandomizedSearchCV(xgb, param_distributions=parameters,\n",
    "                            n_iter=50,\n",
    "                            n_jobs=-1,\n",
    "                            cv=5,\n",
    "                            random_state=seed,\n",
    "                            verbose=1)\n",
    "\n",
    "search.fit(X_train, y_train)"
   ]
  },
  {
   "cell_type": "markdown",
   "metadata": {
    "heading_collapsed": true
   },
   "source": [
    "## Optimized classifier evaluation: `BOGO` and `discount` offers\n",
    "After running a moderately simple round of optimization, these are the results we can observe:"
   ]
  },
  {
   "cell_type": "code",
   "execution_count": 31,
   "metadata": {
    "ExecuteTime": {
     "end_time": "2019-12-23T20:20:55.471646Z",
     "start_time": "2019-12-23T20:20:55.454563Z"
    },
    "hidden": true
   },
   "outputs": [
    {
     "name": "stdout",
     "output_type": "stream",
     "text": [
      "f1_score: 0.7853\n",
      "accuracy_score: 0.8296\n"
     ]
    }
   ],
   "source": [
    "y_pred = search.predict(X_test)\n",
    "print(f'f1_score: {f1_score(y_test, y_pred):.4f}')\n",
    "print(f'accuracy_score: {accuracy_score(y_test, y_pred):.4f}')"
   ]
  },
  {
   "cell_type": "markdown",
   "metadata": {
    "hidden": true
   },
   "source": [
    "As we can see, the results have virtually stayed the same. Can can signal that the model would need some more feature engineering before return better results, or simply that it need to be better optimized. \n",
    "\n",
    "In general, the second approach would be be tested first at this point, as the computing time is not so expensive nowadays. Therefore, with bigger parameter searches and more iterations, it is likely that the results would improve further.\n",
    "\n",
    "Nevertheless, let's continue to evaluate the model."
   ]
  },
  {
   "cell_type": "code",
   "execution_count": 30,
   "metadata": {
    "ExecuteTime": {
     "end_time": "2019-12-23T20:20:39.994279Z",
     "start_time": "2019-12-23T20:20:39.846140Z"
    },
    "hidden": true
   },
   "outputs": [
    {
     "name": "stdout",
     "output_type": "stream",
     "text": [
      "             precision    recall  f1-score   support\n",
      "\n",
      "          0       0.86      0.86      0.86     11050\n",
      "          1       0.78      0.79      0.79      7263\n",
      "\n",
      "avg / total       0.83      0.83      0.83     18313\n",
      "\n"
     ]
    },
    {
     "name": "stderr",
     "output_type": "stream",
     "text": [
      "/Users/gabrielestivalet/anaconda/envs/snakes/lib/python3.6/site-packages/sklearn/preprocessing/label.py:151: DeprecationWarning: The truth value of an empty array is ambiguous. Returning False, but in future this will result in an error. Use `array.size > 0` to check that an array is not empty.\n",
      "  if diff:\n"
     ]
    }
   ],
   "source": [
    "print(classification_report(y_test, y_pred))"
   ]
  },
  {
   "cell_type": "markdown",
   "metadata": {
    "hidden": true
   },
   "source": [
    "Here we can see the precision, recall and f1_score for each target (positive and negative). The model seems to be able to better identify the negative cases than the positive ones, as all metrics for class `0` are higher. Reasons for that could be the slight imbalance in between positive and negative cases, which is not very significant. Another explanation could be that the positive cases are simply more difficult to identify, resulting in lower scores."
   ]
  },
  {
   "cell_type": "code",
   "execution_count": 26,
   "metadata": {
    "ExecuteTime": {
     "end_time": "2019-12-23T16:07:16.799621Z",
     "start_time": "2019-12-23T16:07:16.766662Z"
    },
    "hidden": true
   },
   "outputs": [
    {
     "data": {
      "text/plain": [
       "array([[9486, 1564],\n",
       "       [1556, 5707]])"
      ]
     },
     "execution_count": 26,
     "metadata": {},
     "output_type": "execute_result"
    }
   ],
   "source": [
    "confusion_matrix(y_test, y_pred)"
   ]
  },
  {
   "cell_type": "markdown",
   "metadata": {
    "hidden": true
   },
   "source": [
    "On the main diagonal (from top-left to bottom-right) we can see the correctly classifierd samples. The other diagonal shows the classification errors, which are about the same for type I and II errors."
   ]
  },
  {
   "cell_type": "code",
   "execution_count": 61,
   "metadata": {
    "ExecuteTime": {
     "end_time": "2019-12-23T21:58:20.449551Z",
     "start_time": "2019-12-23T21:58:19.860286Z"
    },
    "hidden": true
   },
   "outputs": [
    {
     "name": "stdout",
     "output_type": "stream",
     "text": [
      "***XGB-train***\n"
     ]
    },
    {
     "data": {
      "image/png": "[encoded data removed]",
      "text/plain": [
       "<Figure size 432x288 with 1 Axes>"
      ]
     },
     "metadata": {
      "needs_background": "light"
     },
     "output_type": "display_data"
    }
   ],
   "source": [
    "y_pred_proba_train = search.predict_proba(X_train)[:,1]\n",
    "\n",
    "# Create true and false positive rates\n",
    "print('***XGB-train***')\n",
    "fpr, tpr, threshold = roc_curve(y_train, y_pred_proba_train)\n",
    "plot_roc_curve(fpr, tpr, y_train, y_pred_proba_train)"
   ]
  },
  {
   "cell_type": "code",
   "execution_count": 60,
   "metadata": {
    "ExecuteTime": {
     "end_time": "2019-12-23T21:58:14.718938Z",
     "start_time": "2019-12-23T21:58:14.364297Z"
    },
    "hidden": true
   },
   "outputs": [
    {
     "name": "stdout",
     "output_type": "stream",
     "text": [
      "***XGB-test***\n"
     ]
    },
    {
     "data": {
      "image/png": "[encoded data removed]",
      "text/plain": [
       "<Figure size 432x288 with 1 Axes>"
      ]
     },
     "metadata": {
      "needs_background": "light"
     },
     "output_type": "display_data"
    }
   ],
   "source": [
    "y_pred_proba = search.predict_proba(X_test)[:,1]\n",
    "\n",
    "# Create true and false positive rates\n",
    "print('***XGB-test***')\n",
    "fpr, tpr, threshold = roc_curve(y_test, y_pred_proba)\n",
    "plot_roc_curve(fpr, tpr, y_test, y_pred_proba)"
   ]
  },
  {
   "cell_type": "markdown",
   "metadata": {
    "hidden": true
   },
   "source": [
    "One widely used metric for evaluating classifier (specially for unbalanced cases) is the Area Under the ROC Curve, which has a scale from 0.5 to 1, being 1 the best possible outcome.\n",
    "\n",
    "According to the scikit-learn documentation: \n",
    "- > _A receiver operating characteristic (ROC), or simply ROC curve, is a graphical plot which illustrates the performance of a binary classifier system as its discrimination threshold is varied. It is created by plotting the fraction of true positives out of the positives (TPR = true positive rate) vs. the fraction of false positives out of the negatives (FPR = false positive rate), at various threshold settings. TPR is also known as sensitivity, and FPR is one minus the specificity or true negative rate._” [sklearn-roc-metrics](https://scikit-learn.org/stable/modules/model_evaluation.html#roc-metrics).\n",
    "\n",
    "Therefore, it evaluates all possible errors and it makes a better assessment of the results when accuracy might fail due to class imbalance.\n",
    "\n",
    "The value of `0.913` if quite good and not easily seen in real-life situations, where models with a score above 0.85 are generally considered for production for many uses. There are always situations where the model needs to perform exceptionally well before its use is considered. This can happen in areas such as aviation, medical and manufacturing."
   ]
  },
  {
   "cell_type": "code",
   "execution_count": null,
   "metadata": {
    "ExecuteTime": {
     "end_time": "2019-12-23T17:17:54.137395Z",
     "start_time": "2019-12-23T17:17:54.112324Z"
    },
    "hidden": true
   },
   "outputs": [],
   "source": [
    "# Saving the model\n",
    "filename = 'models/bogo_discount_model.sav'\n",
    "pickle.dump(search.best_estimator_, open(filename, 'wb'))"
   ]
  },
  {
   "cell_type": "code",
   "execution_count": 7,
   "metadata": {
    "ExecuteTime": {
     "end_time": "2019-12-23T20:06:42.338555Z",
     "start_time": "2019-12-23T20:06:42.318735Z"
    },
    "hidden": true
   },
   "outputs": [
    {
     "data": {
      "text/plain": [
       "XGBClassifier(base_score=0.5, booster='gbtree', colsample_bylevel=1,\n",
       "       colsample_bytree=0.5, gamma=10, learning_rate=0.1, max_delta_step=0,\n",
       "       max_depth=7, min_child_weight=1, missing=nan, n_estimators=500,\n",
       "       n_jobs=1, nthread=None, objective='binary:logistic', random_state=0,\n",
       "       reg_alpha=0.01, reg_lambda=1, scale_pos_weight=1, seed=None,\n",
       "       silent=True, subsample=1)"
      ]
     },
     "execution_count": 7,
     "metadata": {},
     "output_type": "execute_result"
    }
   ],
   "source": [
    "# Loading the model\n",
    "filename = 'models/bogo_discount_model.sav'\n",
    "search = pickle.load(open(filename,'rb'))\n",
    "search"
   ]
  },
  {
   "cell_type": "code",
   "execution_count": 22,
   "metadata": {
    "ExecuteTime": {
     "end_time": "2019-12-23T20:14:30.886041Z",
     "start_time": "2019-12-23T20:14:30.499263Z"
    },
    "hidden": true
   },
   "outputs": [
    {
     "data": {
      "image/png": "[encoded data removed]",
      "text/plain": [
       "<Figure size 1440x576 with 1 Axes>"
      ]
     },
     "metadata": {
      "needs_background": "light"
     },
     "output_type": "display_data"
    }
   ],
   "source": [
    "def plot_feature_importances(model, data, tit):\n",
    "    \"\"\"\n",
    "    Plot feature importance for all features in the data.\n",
    "    The feature importances are available for most tree-based models.\n",
    "    \"\"\"\n",
    "    features = {}\n",
    "    for feature, importance in zip(data.columns, model.feature_importances_):\n",
    "        features[feature] = importance\n",
    "\n",
    "    importances = ((pd.DataFrame.from_dict(features, orient='index')\n",
    "                                .rename(columns={0: 'Feat_importance'}))\n",
    "                   .sort_values(by='Feat_importance').tail(30))\n",
    "\n",
    "    fig, ax = plt.subplots(figsize=(20,8))\n",
    "    importances.plot(kind='barh', rot=0, ax=ax)\n",
    "    \n",
    "    # format\n",
    "    for sp in ['top', 'right', 'bottom', 'left']:\n",
    "        ax.spines[sp].set_visible(False)\n",
    "        \n",
    "    plt.title(tit, fontsize=16, fontweight='bold')\n",
    "    plt.yticks(fontsize=12)\n",
    "    plt.show()\n",
    "    \n",
    "plot_feature_importances(search, data=X_train, tit=\"Feature importances for BOGO & Discount model\")"
   ]
  },
  {
   "cell_type": "markdown",
   "metadata": {
    "hidden": true
   },
   "source": [
    "The sum of offers received, viewed and completed seems to be among the most informative features, whereas gender, age and time since becoming a member rank low in the feature importances.\n",
    "\n",
    "As there were differences between genders, I would expect to see a higher importance being attributed to gender. Moreover, email_channel seem to be not informative at all, while other channels have more discriminatory power according to the classifier."
   ]
  },
  {
   "cell_type": "markdown",
   "metadata": {},
   "source": [
    "# 2ND MODELING TASK: `informational` offers"
   ]
  },
  {
   "cell_type": "markdown",
   "metadata": {
    "heading_collapsed": true
   },
   "source": [
    "## partition: `informational` offers\n",
    "Finally, the second partition for the `informational` table."
   ]
  },
  {
   "cell_type": "code",
   "execution_count": 25,
   "metadata": {
    "ExecuteTime": {
     "end_time": "2019-12-23T20:15:28.092630Z",
     "start_time": "2019-12-23T20:15:28.060477Z"
    },
    "hidden": true
   },
   "outputs": [
    {
     "data": {
      "text/plain": [
       "((10664, 22), (4571, 22))"
      ]
     },
     "execution_count": 25,
     "metadata": {},
     "output_type": "execute_result"
    }
   ],
   "source": [
    "X2 = informational.drop(['person', 'offer_id', 'received_id', 'offer_successful'], axis=1)\n",
    "y2 = informational['offer_successful']\n",
    "\n",
    "X_train2, X_test2, y_train2, y_test2 = train_test_split(X2, y2, stratify=y2, test_size=0.3, random_state=42)\n",
    "X_train2.shape, X_test2.shape"
   ]
  },
  {
   "cell_type": "markdown",
   "metadata": {},
   "source": [
    "## Test out-of-the-box models: `informational` offers\n",
    "Once again, `random_state` will be set so the results are reproducible. Let's see how the models perform without any parameter tunning:"
   ]
  },
  {
   "cell_type": "code",
   "execution_count": 17,
   "metadata": {
    "ExecuteTime": {
     "end_time": "2019-12-23T16:01:48.910971Z",
     "start_time": "2019-12-23T16:01:41.702693Z"
    }
   },
   "outputs": [],
   "source": [
    "seed = 42\n",
    "\n",
    "clfs = [SVC(random_state=seed),\n",
    "        LogisticRegression(random_state=seed),\n",
    "        DummyClassifier(strategy='most_frequent', random_state=seed),\n",
    "        RandomForestClassifier(random_state=seed),\n",
    "        XGBClassifier(random_state=seed)]\n",
    "\n",
    "f1_dict2 = dict()\n",
    "accuracy_dict2 = dict()\n",
    "\n",
    "for clf in clfs:\n",
    "    name = clf.__class__.__name__\n",
    "    \n",
    "    if name in ['SVC', 'LogisticRegression']:\n",
    "        scaler = QuantileTransformer()\n",
    "        scaler.fit(X_train2)\n",
    "        X_train_scaled2 = scaler.transform(X_train2)\n",
    "        X_test_scaled2  = scaler.transform(X_test2)\n",
    "        clf.fit(X_train_scaled2, y_train2)\n",
    "        y_pred2 = clf.predict(X_test_scaled2)\n",
    "    else:\n",
    "        clf.fit(X_train2, y_train2)\n",
    "        y_pred2 = clf.predict(X_test2)\n",
    "    \n",
    "    # record results\n",
    "    f1_dict2[name] = f1_score(y_test2, y_pred2)\n",
    "    accuracy_dict2[name] = accuracy_score(y_test2, y_pred2)"
   ]
  },
  {
   "cell_type": "code",
   "execution_count": 18,
   "metadata": {
    "ExecuteTime": {
     "end_time": "2019-12-23T16:01:48.931681Z",
     "start_time": "2019-12-23T16:01:48.914658Z"
    }
   },
   "outputs": [
    {
     "data": {
      "text/plain": [
       "{'SVC': 0.7467720685111989,\n",
       " 'LogisticRegression': 0.7007760850819201,\n",
       " 'DummyClassifier': 0.0,\n",
       " 'RandomForestClassifier': 0.6668594563331406,\n",
       " 'XGBClassifier': 0.7398749660233759}"
      ]
     },
     "execution_count": 18,
     "metadata": {},
     "output_type": "execute_result"
    }
   ],
   "source": [
    "f1_dict2"
   ]
  },
  {
   "cell_type": "code",
   "execution_count": 19,
   "metadata": {
    "ExecuteTime": {
     "end_time": "2019-12-23T16:01:48.951695Z",
     "start_time": "2019-12-23T16:01:48.940987Z"
    }
   },
   "outputs": [
    {
     "data": {
      "text/plain": [
       "{'SVC': 0.7897615401443885,\n",
       " 'LogisticRegression': 0.7722598993655655,\n",
       " 'DummyClassifier': 0.6217457886676876,\n",
       " 'RandomForestClassifier': 0.7479763727849486,\n",
       " 'XGBClassifier': 0.7906366221833296}"
      ]
     },
     "execution_count": 19,
     "metadata": {},
     "output_type": "execute_result"
    }
   ],
   "source": [
    "accuracy_dict2"
   ]
  },
  {
   "cell_type": "code",
   "execution_count": 35,
   "metadata": {
    "ExecuteTime": {
     "end_time": "2019-12-23T21:24:41.618893Z",
     "start_time": "2019-12-23T21:24:41.610175Z"
    }
   },
   "outputs": [
    {
     "data": {
      "text/plain": [
       "0.37820807351493274"
      ]
     },
     "execution_count": 35,
     "metadata": {},
     "output_type": "execute_result"
    }
   ],
   "source": [
    "y2.mean()"
   ]
  },
  {
   "cell_type": "markdown",
   "metadata": {},
   "source": [
    "Again, `xgboost` is among the top performing ones, with the highest accuracy_score among the candidates. However, this time `SVC` has overperformed all other models according to the `f1_score`. Even though the features could still be arranged slightly better for a linear model to work, it presents quite a robust performance without any tunning. Naturally, the data was scaled for both `Logistic Regression` and `SVC`.\n",
    "\n",
    "Once again, all models have outperformed the `DummyClassifier` (our benchmark model that always predicts the most frequent outcome).\n",
    "\n",
    "Given that there is not a clear winner according to both metrics, both models will be optimized next to see how they perform with some light tunning."
   ]
  },
  {
   "cell_type": "markdown",
   "metadata": {
    "heading_collapsed": true
   },
   "source": [
    "## Optimize best model: `informational` offers\n",
    "For the optimization, a modest parameter search will be provided to a `RandomizedSearchCV` meta-estimator combined with a 5-fold cross-validation to help avoid overfitting and properly tuning the model."
   ]
  },
  {
   "cell_type": "code",
   "execution_count": 20,
   "metadata": {
    "ExecuteTime": {
     "end_time": "2019-12-23T16:04:49.704946Z",
     "start_time": "2019-12-23T16:01:48.959282Z"
    },
    "hidden": true
   },
   "outputs": [
    {
     "name": "stdout",
     "output_type": "stream",
     "text": [
      "Fitting 5 folds for each of 50 candidates, totalling 250 fits\n"
     ]
    },
    {
     "name": "stderr",
     "output_type": "stream",
     "text": [
      "[Parallel(n_jobs=-1)]: Done  42 tasks      | elapsed:   32.5s\n",
      "[Parallel(n_jobs=-1)]: Done 192 tasks      | elapsed:  2.2min\n",
      "[Parallel(n_jobs=-1)]: Done 250 out of 250 | elapsed:  2.9min finished\n"
     ]
    },
    {
     "data": {
      "text/plain": [
       "RandomizedSearchCV(cv=5, error_score='raise',\n",
       "          estimator=XGBClassifier(base_score=0.5, booster='gbtree', colsample_bylevel=1,\n",
       "       colsample_bytree=1, gamma=0, learning_rate=0.1, max_delta_step=0,\n",
       "       max_depth=3, min_child_weight=1, missing=None, n_estimators=100,\n",
       "       n_jobs=1, nthread=None, objective='binary:logistic', random_state=0,\n",
       "       reg_alpha=0, reg_lambda=1, scale_pos_weight=1, seed=None,\n",
       "       silent=True, subsample=1),\n",
       "          fit_params=None, iid=True, n_iter=50, n_jobs=-1,\n",
       "          param_distributions={'max_depth': [3, 5, 7, 10], 'learning_rate': [0.001, 0.01, 0.1, 1, 10], 'n_estimators': [50, 100, 300, 500], 'gamma': [0.01, 1, 10], 'reg_alpha': [0.01, 1, 10], 'colsample_bytree': [0.3, 0.5]},\n",
       "          pre_dispatch='2*n_jobs', random_state=42, refit=True,\n",
       "          return_train_score='warn', scoring=None, verbose=1)"
      ]
     },
     "execution_count": 20,
     "metadata": {},
     "output_type": "execute_result"
    }
   ],
   "source": [
    "xgb = XGBClassifier(objective='binary:logistic',\n",
    "                    booster='gbtree')\n",
    "\n",
    "parameters = {'max_depth':[3,5,7,10],\n",
    "             'learning_rate':[0.001,0.01,0.1,1,10],\n",
    "             'n_estimators':[50,100,300,500],\n",
    "             'gamma':[0.01,1,10],\n",
    "             'reg_alpha':[0.01,1,10],\n",
    "             'colsample_bytree':[0.3, 0.5]}\n",
    "\n",
    "search2 = RandomizedSearchCV(xgb, param_distributions=parameters,\n",
    "                            n_iter=50,\n",
    "                            n_jobs=-1,\n",
    "                            cv=5,\n",
    "                            random_state=seed,\n",
    "                            verbose=1)\n",
    "\n",
    "search2.fit(X_train2, y_train2)"
   ]
  },
  {
   "cell_type": "code",
   "execution_count": 65,
   "metadata": {
    "ExecuteTime": {
     "end_time": "2019-12-23T22:24:26.573217Z",
     "start_time": "2019-12-23T22:12:08.149156Z"
    },
    "hidden": true
   },
   "outputs": [
    {
     "name": "stdout",
     "output_type": "stream",
     "text": [
      "Fitting 5 folds for each of 42 candidates, totalling 210 fits\n"
     ]
    },
    {
     "name": "stderr",
     "output_type": "stream",
     "text": [
      "[Parallel(n_jobs=-1)]: Done  42 tasks      | elapsed:  2.4min\n",
      "[Parallel(n_jobs=-1)]: Done 192 tasks      | elapsed: 10.8min\n",
      "[Parallel(n_jobs=-1)]: Done 210 out of 210 | elapsed: 12.2min finished\n"
     ]
    },
    {
     "data": {
      "text/plain": [
       "GridSearchCV(cv=5, error_score='raise',\n",
       "       estimator=SVC(C=1.0, cache_size=200, class_weight=None, coef0=0.0,\n",
       "  decision_function_shape='ovr', degree=3, gamma='auto', kernel='rbf',\n",
       "  max_iter=-1, probability=False, random_state=None, shrinking=True,\n",
       "  tol=0.001, verbose=False),\n",
       "       fit_params=None, iid=True, n_jobs=-1,\n",
       "       param_grid={'C': [0.001, 0.01, 0.1, 1, 10, 100], 'gamma': [0.001, 0.01, 0.1, 1, 10, 100, 'auto']},\n",
       "       pre_dispatch='2*n_jobs', refit=True, return_train_score='warn',\n",
       "       scoring=None, verbose=1)"
      ]
     },
     "execution_count": 65,
     "metadata": {},
     "output_type": "execute_result"
    }
   ],
   "source": [
    "svc = SVC()\n",
    "\n",
    "parameters_svc = {'C':[0.001,0.01,0.1,1,10,100],\n",
    "                  'gamma':[0.001,0.01,0.1,1,10,100,'auto']}\n",
    "\n",
    "search_svc = GridSearchCV(svc, param_grid=parameters_svc,\n",
    "                               n_jobs=-1,\n",
    "                               cv=5,\n",
    "                               verbose=1) \n",
    "\n",
    "# scaling\n",
    "scaler = QuantileTransformer()\n",
    "scaler.fit(X_train2)\n",
    "X_train_scaled2 = scaler.transform(X_train2)\n",
    "X_test_scaled2  = scaler.transform(X_test2)\n",
    "\n",
    "search_svc.fit(X_train_scaled2, y_train2)"
   ]
  },
  {
   "cell_type": "markdown",
   "metadata": {
    "hidden": true
   },
   "source": [
    "Since only 2 parameters are being optimized fot the `SVC` model, `GridSearchCV` was used as the meta-estimator. Normally, this technique is not applied in real-life situations, as optimizing a model with many parameter combinations with it is not feasible. Here, though, it is a fairly small task.\n",
    "\n",
    "Note that in constrast to `RandomizedSearchCV`, `GridSearchCV` tries all parameter combinations, while the first one tries only a few randomized combinations to speed-up training. In practice, this trade-off generally results in a slight lower performance, but it greatly improved the computation time and, therefore, is much more widely used that `GridSearchCV`."
   ]
  },
  {
   "cell_type": "markdown",
   "metadata": {
    "heading_collapsed": true
   },
   "source": [
    "## Optimized classifier evaluation: `informational` offers\n",
    "With both models trained, let's evaluate the results:"
   ]
  },
  {
   "cell_type": "code",
   "execution_count": 66,
   "metadata": {
    "ExecuteTime": {
     "end_time": "2019-12-23T22:24:27.374049Z",
     "start_time": "2019-12-23T22:24:26.577405Z"
    },
    "hidden": true
   },
   "outputs": [
    {
     "name": "stdout",
     "output_type": "stream",
     "text": [
      "***XGB***\n",
      "f1_score: 0.7438\n",
      "accuracy_score: 0.7930\n",
      "\n",
      "***SVC***\n",
      "f1_score: 0.7497\n",
      "accuracy_score: 0.7917\n"
     ]
    }
   ],
   "source": [
    "y_pred2 = search2.predict(X_test2)\n",
    "y_pred_svc = search_svc.predict(X_test_scaled2)\n",
    "\n",
    "print('***XGB***')\n",
    "print(f'f1_score: {f1_score(y_test2, y_pred2):.4f}')\n",
    "print(f'accuracy_score: {accuracy_score(y_test2, y_pred2):.4f}')\n",
    "\n",
    "print()\n",
    "print('***SVC***')\n",
    "print(f'f1_score: {f1_score(y_test2, y_pred_svc):.4f}')\n",
    "print(f'accuracy_score: {accuracy_score(y_test2, y_pred_svc):.4f}')"
   ]
  },
  {
   "cell_type": "markdown",
   "metadata": {
    "hidden": true
   },
   "source": [
    "Performance metrics are very close for both models. Both have a higher accuracy than f1_score, but normally that is the case when comparing these two metrics. As seen in the previous dataset, the optimization steps help the models to improve somehow, but not by much. These could imply that a wider parameter search could potentially provided better results. However, such tasks generally comes with a trade-off in computational time, but it is generally good practice to try to optimize the models a bit more."
   ]
  },
  {
   "cell_type": "code",
   "execution_count": 67,
   "metadata": {
    "ExecuteTime": {
     "end_time": "2019-12-23T22:26:35.734531Z",
     "start_time": "2019-12-23T22:26:35.717355Z"
    },
    "hidden": true
   },
   "outputs": [
    {
     "name": "stdout",
     "output_type": "stream",
     "text": [
      "***XGB***\n",
      "             precision    recall  f1-score   support\n",
      "\n",
      "        0.0       0.86      0.79      0.83      2842\n",
      "        1.0       0.70      0.79      0.74      1729\n",
      "\n",
      "avg / total       0.80      0.79      0.80      4571\n",
      "\n",
      "\n",
      "***SVC***\n",
      "             precision    recall  f1-score   support\n",
      "\n",
      "        0.0       0.88      0.77      0.82      2842\n",
      "        1.0       0.69      0.82      0.75      1729\n",
      "\n",
      "avg / total       0.81      0.79      0.79      4571\n",
      "\n"
     ]
    }
   ],
   "source": [
    "print('***XGB***')\n",
    "print(classification_report(y_test2, y_pred2))\n",
    "print()\n",
    "print('***SVC***')\n",
    "print(classification_report(y_test2, y_pred_svc))"
   ]
  },
  {
   "cell_type": "code",
   "execution_count": 68,
   "metadata": {
    "ExecuteTime": {
     "end_time": "2019-12-23T22:26:38.564861Z",
     "start_time": "2019-12-23T22:26:38.540794Z"
    },
    "hidden": true
   },
   "outputs": [
    {
     "name": "stdout",
     "output_type": "stream",
     "text": [
      "***XGB***\n",
      "[[2252  590]\n",
      " [ 356 1373]]\n",
      "\n",
      "***SVC***\n",
      "[[2193  649]\n",
      " [ 303 1426]]\n"
     ]
    }
   ],
   "source": [
    "print('***XGB***')\n",
    "print(confusion_matrix(y_test2, y_pred2))\n",
    "print()\n",
    "print('***SVC***')\n",
    "print(confusion_matrix(y_test2, y_pred_svc))"
   ]
  },
  {
   "cell_type": "markdown",
   "metadata": {
    "hidden": true
   },
   "source": [
    "After initial analysis, it is clear that the `SVC` model under performs `xgboost` by a lot, specially with the the positive class (f1_score=0.45). On the other hand, the later one displays consistent with the ones obtained for the previous dataset. Important to point out that the numbers are slightly lower, which will likely be captured by the ROC Curve.\n",
    "\n",
    "The confusion matrix show a more balanced split between the errors produced by `xgboost`. In contrast, it shows a very high number of false negatives  for the `SVC` (1084). These cases are the ones falsely identified by the model as being negatives, when in fact they are positive. For that matter, recall for the model is low (0.37 out of 1.0).\n",
    "\n",
    "Since the SVC is generally slower to train, it is more sensitive to parameter settings, it requires scaling and it can't handle missing values, `xgboost` seems more appropriate, as both models have very similar performances for this task.\n",
    "\n",
    "Therefore, we will continue to evaluate `xgboost` as `SVC` does not provide any benefit, but instead has mode disadvantages that have lately made it less popular in the data science field in comparison to more optimized, robust and faster algorithms available."
   ]
  },
  {
   "cell_type": "code",
   "execution_count": 53,
   "metadata": {
    "ExecuteTime": {
     "end_time": "2019-12-23T21:56:12.645466Z",
     "start_time": "2019-12-23T21:56:12.305260Z"
    },
    "hidden": true
   },
   "outputs": [
    {
     "name": "stdout",
     "output_type": "stream",
     "text": [
      "***XGB-train***\n"
     ]
    },
    {
     "data": {
      "image/png": "[encoded data removed]",
      "text/plain": [
       "<Figure size 432x288 with 1 Axes>"
      ]
     },
     "metadata": {
      "needs_background": "light"
     },
     "output_type": "display_data"
    }
   ],
   "source": [
    "y_pred_proba2_train = search.predict_proba(X_train2)[:,1]\n",
    "\n",
    "# Create true and false positive rates\n",
    "print('***XGB-train***')\n",
    "fpr2, tpr2, threshold = roc_curve(y_train2, y_pred_proba2_train)\n",
    "plot_roc_curve(fpr2, tpr2, y_train2, y_pred_proba2_train)"
   ]
  },
  {
   "cell_type": "code",
   "execution_count": 55,
   "metadata": {
    "ExecuteTime": {
     "end_time": "2019-12-23T21:56:23.926028Z",
     "start_time": "2019-12-23T21:56:23.640861Z"
    },
    "hidden": true
   },
   "outputs": [
    {
     "name": "stdout",
     "output_type": "stream",
     "text": [
      "***XGB-test***\n"
     ]
    },
    {
     "data": {
      "image/png": "[encoded data removed]",
      "text/plain": [
       "<Figure size 432x288 with 1 Axes>"
      ]
     },
     "metadata": {
      "needs_background": "light"
     },
     "output_type": "display_data"
    }
   ],
   "source": [
    "y_pred_proba2 = search.predict_proba(X_test2)[:,1]\n",
    "\n",
    "# Create true and false positive rates\n",
    "print('***XGB-test***')\n",
    "fpr2, tpr2, threshold = roc_curve(y_test2, y_pred_proba2)\n",
    "plot_roc_curve(fpr2, tpr2, y_test2, y_pred_proba2)"
   ]
  },
  {
   "cell_type": "markdown",
   "metadata": {
    "hidden": true
   },
   "source": [
    "Given that the results above were already slightly lower than the ones for the previous dataset, it's not a surprise that the AUC acores and ROC Curve also display a lower performance. Again, both curves for the training and testing datasets have a similar AUC score. In some cases, this could indicate that the model is underfitting and a more complex one could help bring performance up."
   ]
  },
  {
   "cell_type": "markdown",
   "metadata": {
    "hidden": true
   },
   "source": [
    "So that we have a comparison with the model trained for `BOGO` and `discount` offers, the feature importance of the `xgboost` is plotted below. Here we can see the the sum of the viewed offers also seem to be among the most important features, along with the mean and sum of amount spent by each customer. In contrast gender `M` here has a higher importance, albeit not very high still. Income once again ranks higher in the list.\n",
    "\n",
    "Not surprisingly, `sum_event_offer_completed` scores zero, as no informational offer could be \"completed\". In other words, all have the constant value of `0`. Along with it, email channel again ranks very low (no importance given by the model), along with other gender variables."
   ]
  },
  {
   "cell_type": "code",
   "execution_count": 26,
   "metadata": {
    "ExecuteTime": {
     "end_time": "2019-12-23T20:15:34.271772Z",
     "start_time": "2019-12-23T20:15:33.901491Z"
    },
    "hidden": true
   },
   "outputs": [
    {
     "data": {
      "image/png": "[encoded data removed]",
      "text/plain": [
       "<Figure size 1440x576 with 1 Axes>"
      ]
     },
     "metadata": {
      "needs_background": "light"
     },
     "output_type": "display_data"
    }
   ],
   "source": [
    "plot_feature_importances(search2, data=X_train2, tit=\"Feature importances for Informational model\")"
   ]
  },
  {
   "cell_type": "code",
   "execution_count": 74,
   "metadata": {
    "ExecuteTime": {
     "end_time": "2019-12-23T22:33:32.900784Z",
     "start_time": "2019-12-23T22:33:32.881422Z"
    },
    "hidden": true
   },
   "outputs": [],
   "source": [
    "# Saving the model\n",
    "filename = 'models/informational_model.sav'\n",
    "pickle.dump(search2, open(filename, 'wb'))\n",
    "\n",
    "filename_svc = 'models/informational_model_svc.sav'\n",
    "pickle.dump(search_svc.best_estimator_, open(filename_svc, 'wb'))"
   ]
  },
  {
   "cell_type": "code",
   "execution_count": 76,
   "metadata": {
    "ExecuteTime": {
     "end_time": "2019-12-23T22:33:42.070749Z",
     "start_time": "2019-12-23T22:33:42.056783Z"
    },
    "hidden": true
   },
   "outputs": [
    {
     "data": {
      "text/plain": [
       "XGBClassifier(base_score=0.5, booster='gbtree', colsample_bylevel=1,\n",
       "       colsample_bytree=0.5, gamma=10, learning_rate=0.1, max_delta_step=0,\n",
       "       max_depth=7, min_child_weight=1, missing=nan, n_estimators=500,\n",
       "       n_jobs=1, nthread=None, objective='binary:logistic', random_state=0,\n",
       "       reg_alpha=0.01, reg_lambda=1, scale_pos_weight=1, seed=None,\n",
       "       silent=True, subsample=1)"
      ]
     },
     "execution_count": 76,
     "metadata": {},
     "output_type": "execute_result"
    }
   ],
   "source": [
    "# Loading the model\n",
    "filename = 'models/informational_model.sav'\n",
    "search2 = pickle.load(open(filename,'rb'))\n",
    "search2"
   ]
  },
  {
   "cell_type": "code",
   "execution_count": 77,
   "metadata": {
    "ExecuteTime": {
     "end_time": "2019-12-23T22:33:43.587600Z",
     "start_time": "2019-12-23T22:33:43.577569Z"
    },
    "hidden": true
   },
   "outputs": [
    {
     "data": {
      "text/plain": [
       "SVC(C=100, cache_size=200, class_weight=None, coef0=0.0,\n",
       "  decision_function_shape='ovr', degree=3, gamma=0.1, kernel='rbf',\n",
       "  max_iter=-1, probability=False, random_state=None, shrinking=True,\n",
       "  tol=0.001, verbose=False)"
      ]
     },
     "execution_count": 77,
     "metadata": {},
     "output_type": "execute_result"
    }
   ],
   "source": [
    "# Loading the model\n",
    "filename_svc = 'models/informational_model_svc.sav'\n",
    "search_svc = pickle.load(open(filename_svc,'rb'))\n",
    "search_svc"
   ]
  },
  {
   "cell_type": "markdown",
   "metadata": {},
   "source": [
    "# Conclusions"
   ]
  },
  {
   "cell_type": "markdown",
   "metadata": {},
   "source": [
    "After an initial attempt of **predicting if an offer will be successful**, this appears to be a feasible task with the data available. Given demographic and offer characteristics, as well as behavioral data, the models seem to offer reasonable performances. This is specially true for the one trained with the `BOGO` and `discount` offer data. In this case, the model performs fairly good in predicting who would likely act upon one of this offers, by being actively engaged with the company. Once again, in order for these offers to be considered successful, the following criteria must be met:\n",
    "- **BOGO & discount offers:** for these offers to be considered successful, these events need to happen in sequence:\n",
    "- > **offer received >> offer viewed >> transaction >> offer completed**\n",
    "\n",
    "Only if these events take place in sequence for the same offer, we will consider it successful (positive case). In this scenario, the best classifier was optimized and it yielded an ROC score of over 0.91, which is fairly high and could be used in a real life situation for such a task. Important to note here that sending promotional offers to customers does not require the same level of performance that a ML-model trained for a medical application for example, as a certain level of mistakes (customer don't act upon the offer) is unlikely to hurt the company by much.\n",
    "\n",
    "Other metrics for this case are:\n",
    "- accuracy score: 0.8296\n",
    "- f1_score: 0.7853\n",
    "\n",
    "\n",
    "On the dataset, the one containing `informational` offers, the classifiers also show a good performance, however slight lower than the previous case.\n",
    "The results were:\n",
    "- accuracy score: 0.7930\n",
    "- f1_score: 0.7438\n",
    "\n",
    "\n",
    "For this case the overall \n",
    "\n",
    "- **informational offer:** in this case we will need to observe the following:\n",
    "- > **offer received >> offer viewed >> transaction**\n",
    "\n",
    "\n",
    "The optimized classifiers produced results that are only slightly better, which could indicate that potential improvements in 3 main areas:\n",
    "- feature engineering and preprocessing: more often than not, this is the area that mostly improves a model's performance. Nowadays, the algorithms are so optimized that data scientists spend most of their time engineering the data so that new features can increase the model's metrics. Some examples could be different feature representations (binning, scaling, polynomials, derived features, feature selection, etc.)\n",
    "- wider parameter spaces: another topic is to tune the model with wider (or with mode combinations of) parameter ranges. Some can greatly improve if properly tunned, but even the ones that are more robust to parameter settings can improve with it. Therefore, this is a must for every model built.\n",
    "- other models: each algorithm has it's own way of reaching conclusions and there is not a particular way that will solve all problems better. So, additional models can potentially show better performances.\n",
    "\n",
    "These areas could be explored for further improvements in the results, but overall the goal of **predicting if an offer will be successful given customer demographic information, as well as some of the offer's characteristics** is not only feasible, but the classifiers trained here show that the features have a great discriminatory power to support the task."
   ]
  }
 ],
 "metadata": {
  "hide_input": false,
  "kernelspec": {
   "display_name": "Python [conda env:snakes] *",
   "language": "python",
   "name": "conda-env-snakes-py"
  },
  "language_info": {
   "codemirror_mode": {
    "name": "ipython",
    "version": 3
   },
   "file_extension": ".py",
   "mimetype": "text/x-python",
   "name": "python",
   "nbconvert_exporter": "python",
   "pygments_lexer": "ipython3",
   "version": "3.6.9"
  },
  "toc": {
   "nav_menu": {},
   "number_sections": true,
   "sideBar": true,
   "skip_h1_title": false,
   "toc_cell": false,
   "toc_position": {},
   "toc_section_display": "block",
   "toc_window_display": false
  }
 },
 "nbformat": 4,
 "nbformat_minor": 2
}
